{
 "cells": [
  {
   "cell_type": "markdown",
   "metadata": {
    "hideCode": false,
    "hidePrompt": false
   },
   "source": [
    "# CH222"
   ]
  },
  {
   "cell_type": "markdown",
   "metadata": {
    "hideCode": false,
    "hidePrompt": false
   },
   "source": [
    "# Studying the solvation shell of ions via Molecular Dynamics Simulations"
   ]
  },
  {
   "cell_type": "markdown",
   "metadata": {
    "hideCode": false,
    "hidePrompt": false
   },
   "source": [
    "In this computational experiment you will use **molecular dynamics simulations** to investigate the solvation shell of ions at the atomistic level. For this computer experiment the ions and the solvent particles will be represented by relatively simple models (more on that later), and you will examine how the size of the cation and the temperature effect the structure of the solvation shell.\n",
    "\n",
    "You will use the Python-based Jupyter Notebook framework, leveraging Statistical Mechanics to compute structural features of this system.\n",
    "\n",
    "This notebook outlines how to set up the MD simulation using the HOOMD-blue simulation package, and some tips on using the Atomic Simulation Environment (ASE) for handling atomic configurations.\n",
    "\n",
    "You can find further help, features and options on the Manual pages:  \n",
    "[HOOMD-blue page](https://hoomd-blue.readthedocs.io/en/stable/index.html)  \n",
    "[ASE page](https://wiki.fysik.dtu.dk/ase/index.html)"
   ]
  },
  {
   "cell_type": "markdown",
   "metadata": {},
   "source": [
    "<span style='background :orange' > Task </span>"
   ]
  },
  {
   "cell_type": "markdown",
   "metadata": {
    "hideCode": false,
    "hidePrompt": false
   },
   "source": [
    "**IMPORTANT!!!** Use **Google Chrome** to work on the notebook instead of using Microsoft Explorer. The latter handles the visualisation package incorrectly."
   ]
  },
  {
   "cell_type": "markdown",
   "metadata": {
    "hideCode": false,
    "hidePrompt": false
   },
   "source": [
    "## Content of this notebook\n",
    "\n",
    "#### Setting up the simulation\n",
    "\n",
    "1. Import necessary libraries and initialise HOOMD\n",
    "2. Set up the system - initial structure, number of atoms\n",
    "3. Define interaction between particles - binary Lennard-Jones\n",
    "4. Set up the MD simulation and the ensemble - set the integrator, temperature, pressure\n",
    "5. Set the output format - output file and logged quantities\n",
    "\n",
    "#### Performing the simulation\n",
    "\n",
    "6. Perform the simulation - run()\n",
    "7. Saving the atomic coordinates and visualising the system \n",
    "\n",
    "#### Analysing the results\n",
    "\n",
    "8. Analysing results"
   ]
  },
  {
   "cell_type": "markdown",
   "metadata": {
    "hideCode": false,
    "hidePrompt": false
   },
   "source": [
    "## 1. Import necessary libraries and initialise HOOMD"
   ]
  },
  {
   "cell_type": "markdown",
   "metadata": {
    "hideCode": false,
    "hidePrompt": false
   },
   "source": [
    "Import the hoomd python package and the md component we will use to perform MD simulations."
   ]
  },
  {
   "cell_type": "code",
   "execution_count": 1,
   "metadata": {
    "hideCode": false,
    "hidePrompt": false
   },
   "outputs": [],
   "source": [
    "import hoomd\n",
    "import hoomd.md"
   ]
  },
  {
   "cell_type": "markdown",
   "metadata": {
    "hideCode": false,
    "hidePrompt": false
   },
   "source": [
    "We need to initialize the execution context to control where HOOMD will execute the simulation. We will run the simulations on the CPU (HOOMD also allows options for GPU, but we won't use them)."
   ]
  },
  {
   "cell_type": "code",
   "execution_count": 2,
   "metadata": {
    "hideCode": false,
    "hidePrompt": false,
    "scrolled": true
   },
   "outputs": [
    {
     "name": "stdout",
     "output_type": "stream",
     "text": [
      "HOOMD-blue v2.8.0-2-gff981a78f DOUBLE HPMC_MIXED SSE SSE2 SSE3 SSE4_1 \n",
      "Compiled: 15/11/2019\n",
      "Copyright (c) 2009-2019 The Regents of the University of Michigan.\n",
      "-----\n",
      "You are using HOOMD-blue. Please cite the following:\n",
      "* J A Anderson, C D Lorenz, and A Travesset. \"General purpose molecular dynamics\n",
      "  simulations fully implemented on graphics processing units\", Journal of\n",
      "  Computational Physics 227 (2008) 5342--5359\n",
      "* J Glaser, T D Nguyen, J A Anderson, P Liu, F Spiga, J A Millan, D C Morse, and\n",
      "  S C Glotzer. \"Strong scaling of general-purpose molecular dynamics simulations\n",
      "  on GPUs\", Computer Physics Communications 192 (2015) 97--107\n",
      "-----\n",
      "HOOMD-blue is running on the CPU\n"
     ]
    }
   ],
   "source": [
    "hoomd.context.initialize('--mode=cpu');"
   ]
  },
  {
   "cell_type": "markdown",
   "metadata": {
    "hideCode": false,
    "hidePrompt": false
   },
   "source": [
    "Import some further python packages we will need for analysing and visualising simulations results."
   ]
  },
  {
   "cell_type": "code",
   "execution_count": 3,
   "metadata": {
    "hideCode": false,
    "hidePrompt": false
   },
   "outputs": [
    {
     "data": {
      "application/vnd.jupyter.widget-view+json": {
       "model_id": "9122d315097b4962974a0cd7c0b0d39e",
       "version_major": 2,
       "version_minor": 0
      },
      "text/plain": [
       "_ColormakerRegistry()"
      ]
     },
     "metadata": {},
     "output_type": "display_data"
    }
   ],
   "source": [
    "import numpy as np\n",
    "from matplotlib import pyplot \n",
    "import ase # Atomic simulation environment\n",
    "import ase.io\n",
    "from ase.visualize import view\n",
    "#packages necessary to visualise the trajectories\n",
    "import pytraj as pt \n",
    "import nglview as nv"
   ]
  },
  {
   "cell_type": "markdown",
   "metadata": {
    "hideCode": false,
    "hidePrompt": false
   },
   "source": [
    "## 2. Create initial configuration"
   ]
  },
  {
   "cell_type": "markdown",
   "metadata": {
    "hideCode": false,
    "hidePrompt": false
   },
   "source": [
    "First we need to create the **inital configuration** for the simulation to start from: \n",
    "\n",
    "- size of the simulation box\n",
    "- number of atoms in the system\n",
    "- position of the atoms (coordinates)\n",
    "\n",
    "We define our simulation system as the following: we create an initial smaller cell, than we will replicate this cell in each Cartesian direction (3 times) to create our actual simulation box.\n",
    "\n",
    "The initial small cell is cubic, with box length 8.0 One ion pair is placed within this, with 60 solvent particles. Their coordinates are randomly generated with the condition they are not closer to 1.0 to avoid atomic overlaps. \n",
    "(Note: You can define the system only once, thus you can execute the code cell below only once. If you want to experiment with different setups, you need to restart the kernel or initialize the hoomd.context again!)"
   ]
  },
  {
   "cell_type": "markdown",
   "metadata": {},
   "source": [
    "<span style='background :orange' > Set the box length and the number of solvents below: </span>"
   ]
  },
  {
   "cell_type": "code",
   "execution_count": 4,
   "metadata": {},
   "outputs": [],
   "source": [
    "boxL=8.0\n",
    "N_solvent=60"
   ]
  },
  {
   "cell_type": "code",
   "execution_count": 5,
   "metadata": {
    "hideCode": false,
    "hidePrompt": false
   },
   "outputs": [
    {
     "name": "stdout",
     "output_type": "stream",
     "text": [
      "notice(2): Group \"all\" created containing 1674 particles\n"
     ]
    }
   ],
   "source": [
    "position=[]\n",
    "type_name=[]\n",
    "charge=[]\n",
    "mass=[]\n",
    "\n",
    "#Add solvent particles\n",
    "for i in range(N_solvent):\n",
    "    generate_new=True \n",
    "    while generate_new: \n",
    "        trial=np.random.rand(3)*(boxL-1.0)\n",
    "        generate_new=False\n",
    "        for j in range(i):\n",
    "            if (np.linalg.norm(position[j]-trial)<1.0):\n",
    "                generate_new=True\n",
    "    position.append(trial)\n",
    "    type_name.append('Solvent')\n",
    "    charge.append(0.0)\n",
    "    mass.append(1.0)\n",
    "\n",
    "#Add one cation\n",
    "position.append([0.0, 0.0, 0.0])\n",
    "type_name.append('Cation')\n",
    "charge.append(1.0)\n",
    "mass.append(1.0)\n",
    "    \n",
    "#Add one anion    \n",
    "position.append([2.0, 2.0, 2.0])\n",
    "type_name.append('Anion')\n",
    "charge.append(-1.0)\n",
    "mass.append(1.0)\n",
    "    \n",
    "#Create the initial cell    \n",
    "initial_cell = hoomd.lattice.unitcell(N = N_solvent+2, # number of atoms in the initial cell\n",
    "                a1 = [boxL,0,0],\n",
    "                a2 = [0,boxL,0],\n",
    "                a3 = [0,0,boxL], # these define a cubic box of length boxL \n",
    "                position = position, # set positions for the two atoms (they should not be placed on top of each other)\n",
    "                type_name = type_name,\n",
    "                charge = charge,\n",
    "                mass = mass,  \n",
    "                            );\n",
    "\n",
    "#Using the initial cell as a building block, create a larger cell. This one will be used for the simulation.\n",
    "system=hoomd.init.create_lattice(initial_cell,n=3) "
   ]
  },
  {
   "cell_type": "markdown",
   "metadata": {
    "hideCode": false,
    "hidePrompt": false
   },
   "source": [
    "####  Now it's time to have a look at our system - It's always a good idea to see what we have created! \n",
    "\n",
    "HOOMD uses its own format to store the system parameters and a binary file format to save configurations file, which would be difficult to handle without additional separate programs, so we will make use of the Atomic Simulation Environment (ASE) to save configurations and analyse them. The short ``save_config`` function below extracts the simulation box parameters and the atomic coordinates from the hoomd ``system`` we have defined, and creates an atoms object from it. \n",
    "\n",
    "**Note:** ASE expects real atomic symbols as atom types, thus e.g. ``Solvent`` will not work. Hence, we will call our particle types S (solvent), C (Cation) and Ar (Anion), this will only effect the visualisation and how you refer to the atoms during the analysis code. "
   ]
  },
  {
   "cell_type": "code",
   "execution_count": 6,
   "metadata": {
    "hideCode": false,
    "hidePrompt": false
   },
   "outputs": [],
   "source": [
    "def save_config(hoomd_system,atom_types=[\"S\",\"C\",\"Ar\"]):\n",
    "    \n",
    "    lattice=np.array([hoomd_system.box.get_lattice_vector(i=i) for i in range(3)])\n",
    "    x2 = int(lattice[[0],[0]]) / 2\n",
    "    y2 = int(lattice[[1],[1]]) / 2\n",
    "    z2 = int(lattice[[2],[2]]) / 2\n",
    "\n",
    "    ase_atoms=ase.Atoms(pbc=[(True,True,True)],cell=lattice)\n",
    "    \n",
    "    for i in range(system.particles.types.pdata.getN()):\n",
    "        i_type = system.particles.types.pdata.getType(i)\n",
    "        i_pos = hoomd_system.particles.pdata.getPosition(i)\n",
    "        i_pos.x = i_pos.x + x2 ; i_pos.y = i_pos.y + y2 ; i_pos.z = i_pos.z + z2\n",
    "        ase_atoms.append(ase.Atom(atom_types[i_type],position=[i_pos.x,i_pos.y,i_pos.z]))\n",
    "    return ase_atoms"
   ]
  },
  {
   "cell_type": "code",
   "execution_count": 7,
   "metadata": {
    "hideCode": false,
    "hidePrompt": false
   },
   "outputs": [
    {
     "data": {
      "application/vnd.jupyter.widget-view+json": {
       "model_id": "905348b3a2c14f8d99fb457509cd2421",
       "version_major": 2,
       "version_minor": 0
      },
      "text/plain": [
       "NGLWidget()"
      ]
     },
     "metadata": {},
     "output_type": "display_data"
    }
   ],
   "source": [
    "current_config = save_config(system)\n",
    "ase.io.write(\"system.pdb\", current_config)\n",
    "p_traj = pt.load('system.pdb')\n",
    "p_view = nv.show_pytraj(p_traj)\n",
    "p_view.add_unitcell()\n",
    "p_view"
   ]
  },
  {
   "cell_type": "markdown",
   "metadata": {
    "hideCode": false,
    "hidePrompt": false
   },
   "source": [
    "## 3. Define the interaction between particles\n",
    "\n",
    "A key part of any materials modelling calculation is how we describe the intercation between particles. In this section we define the parameters for that. "
   ]
  },
  {
   "cell_type": "code",
   "execution_count": 8,
   "metadata": {
    "hideCode": false,
    "hidePrompt": false
   },
   "outputs": [],
   "source": [
    "nl = hoomd.md.nlist.cell() # neighbour list to keep track of the atomic distances - this makes the calculation more efficient"
   ]
  },
  {
   "cell_type": "markdown",
   "metadata": {
    "hideCode": false,
    "hidePrompt": false
   },
   "source": [
    "The next step is to initialise the Lennard-Jones potential, and set the cutoff distance, ``r_cut``. If two atoms are further away from each other than this distance, their pair energy contribution will be zero (the further they are, the weaker the interaction, thus it is a reasonable apporximation in most cases). "
   ]
  },
  {
   "cell_type": "code",
   "execution_count": 9,
   "metadata": {
    "hideCode": false,
    "hidePrompt": false
   },
   "outputs": [],
   "source": [
    "lj = hoomd.md.pair.lj(r_cut=4.0, nlist=nl) # define potential"
   ]
  },
  {
   "cell_type": "markdown",
   "metadata": {
    "hideCode": false,
    "hidePrompt": false
   },
   "source": [
    "We will use the Lennard-Jones potential to describe the van der Waals interactions between the particles. We need to set two parameters, $\\sigma$ (which determins the distance) and $\\epsilon$ (which determins the strength of the interaction), for all combinations of pair types. These parameters also determine the energy and distance scale of the simulation (temperature is in $kT/\\epsilon$ units, and pressure is in $P\\sigma^3/\\epsilon$ units)."
   ]
  },
  {
   "cell_type": "markdown",
   "metadata": {},
   "source": [
    "<span style='background :orange' > Set the LJ parameters: </span>"
   ]
  },
  {
   "cell_type": "code",
   "execution_count": 10,
   "metadata": {
    "hideCode": false,
    "hidePrompt": false
   },
   "outputs": [],
   "source": [
    "lj.pair_coeff.set('Solvent', 'Solvent', epsilon=1.0, sigma=1.0)\n",
    "lj.pair_coeff.set('Solvent', 'Anion',  epsilon=1.0, sigma=1.5)\n",
    "lj.pair_coeff.set('Solvent', 'Cation', epsilon=1.0, sigma=1.0)\n",
    "lj.pair_coeff.set('Anion', 'Cation', epsilon=1.0, sigma=1.5)\n",
    "lj.pair_coeff.set('Anion', 'Anion', epsilon=1.0, sigma=1.0)\n",
    "lj.pair_coeff.set('Cation', 'Cation', epsilon=1.0, sigma=2.0)"
   ]
  },
  {
   "cell_type": "markdown",
   "metadata": {},
   "source": [
    "Of course, the charged particles also have electrostatic interaction, which needs to be calculated. Since the Coulomb interaction converges towards zero much more slowly than the Lennard-Jones interaction, longer range contribution has to be taken into account. This is done by the so called Particle-particle-particle mesh Ewald technique, which is initialised below.   "
   ]
  },
  {
   "cell_type": "code",
   "execution_count": 11,
   "metadata": {},
   "outputs": [
    {
     "name": "stdout",
     "output_type": "stream",
     "text": [
      "notice(2): Group \"charged\" created containing 54 particles\n",
      "-----\n",
      "You are using PPPM. Please cite the following:\n",
      "* D N LeBard, B G Levine, S A Barr, A Jusufi, S Sanders, M L Klein, and A Z\n",
      "  Panagiotopoulos. \"Self-assembly of coarse-grained ionic surfactants\n",
      "  accelerated by graphics processing units\", Journal of Computational Physics 8\n",
      "  (2012) 2385-2397\n",
      "-----\n"
     ]
    }
   ],
   "source": [
    "charged = hoomd.group.charged()\n",
    "all = hoomd.group.all()\n",
    "pppm = hoomd.md.charge.pppm(group=charged, nlist=nl)\n",
    "pppm.set_params(Nx=64, Ny=64, Nz=64, order=6, rcut=4.0)"
   ]
  },
  {
   "cell_type": "markdown",
   "metadata": {
    "hideCode": false,
    "hidePrompt": false
   },
   "source": [
    "## 4. Set up the MD simulation and the ensemble"
   ]
  },
  {
   "cell_type": "markdown",
   "metadata": {
    "hideCode": false,
    "hidePrompt": false
   },
   "source": [
    "To propagate the system forward in time, an integration mode must be set. We will used the ``mode_standard``, where at each timestep, all of the specified forces are evaluated and used in moving the system forward to the next timestep.\n",
    "This is where we also set the length of one MD timestep the integrator will use."
   ]
  },
  {
   "cell_type": "code",
   "execution_count": 12,
   "metadata": {
    "hideCode": false,
    "hidePrompt": false
   },
   "outputs": [],
   "source": [
    "hoomd.md.integrate.mode_standard(dt=0.005);"
   ]
  },
  {
   "cell_type": "markdown",
   "metadata": {
    "hideCode": false,
    "hidePrompt": false
   },
   "source": [
    "We also have to define the ensemble we will be working at: canonical ensemble (keeping the volume constant) and isobaric ensemble (keeping the pressure constant).\n",
    "This is done by setting the appropriate integrator. We'll define both first and switch between them as necessary during the run. "
   ]
  },
  {
   "cell_type": "markdown",
   "metadata": {
    "hideCode": false,
    "hidePrompt": false
   },
   "source": [
    "<b>(a) ($N$,$V$,$T$) simulation using the Langevin thermostat.</b>\n",
    "    ``kT`` is the temperature of the thermostat in energy units, ``seed`` is random number seed for initialising the random forces to be applied on the atoms (use any integer you wish)."
   ]
  },
  {
   "cell_type": "markdown",
   "metadata": {},
   "source": [
    "<span style='background :orange' > Set the the temperature value! </span>"
   ]
  },
  {
   "cell_type": "code",
   "execution_count": 13,
   "metadata": {
    "hideCode": false,
    "hidePrompt": false
   },
   "outputs": [
    {
     "name": "stdout",
     "output_type": "stream",
     "text": [
      "notice(2): integrate.langevin/bd is using specified gamma values\n"
     ]
    }
   ],
   "source": [
    "nvt = hoomd.md.integrate.langevin(group=all, kT=0.8, seed=10)"
   ]
  },
  {
   "cell_type": "markdown",
   "metadata": {
    "hideCode": false,
    "hidePrompt": false
   },
   "source": [
    "<b>(b) ($N$,$P$,$T$) simulation using Martyna-Tobias-Klein equations of motion.</b> ``kT`` is the temperature of the thermostat in energy units, ``tau`` is the coupling constant of the thermostat in time units, ``P`` is the isotropic pressure in pressure units, ``tauP`` is the coupling constant of the barostat in time units. ``couple`` is the couplings of diagonal elements of the stress tensor: if it is ``none``, than all box lengths are updated independently, if it is ``xyz``, the ratios between all box lengths stay constant (the shape of the simulation cell will not change, just the volume)."
   ]
  },
  {
   "cell_type": "markdown",
   "metadata": {},
   "source": [
    "<span style='background :orange' > Set the the temperature value! </span>"
   ]
  },
  {
   "cell_type": "code",
   "execution_count": 14,
   "metadata": {
    "hideCode": false,
    "hidePrompt": false
   },
   "outputs": [],
   "source": [
    "npt = hoomd.md.integrate.npt(group=all, kT=0.8, tau=3.0, P=0.1, tauP = 3.0, couple=\"xyz\")"
   ]
  },
  {
   "cell_type": "markdown",
   "metadata": {
    "hideCode": false,
    "hidePrompt": false
   },
   "source": [
    "## 5. Set the output format\n",
    "\n",
    "What quantities should be collected, how often, and where they should be saved during the MD simulation?\n",
    "A number of quantities are calculated during a simulation, and these can be logged so we can check and analyse them later. A few example of useful quantities are below, you can choose which ones to include. The log file is a text file, with each column corresponding to the quantities defined, in the same order. Output data is written to the file line by line at every period timestep."
   ]
  },
  {
   "cell_type": "markdown",
   "metadata": {},
   "source": [
    "<span style='background :orange' > Define the output file name you would like to use. </span>"
   ]
  },
  {
   "cell_type": "code",
   "execution_count": 15,
   "metadata": {
    "hideCode": false,
    "hidePrompt": false
   },
   "outputs": [],
   "source": [
    "quantities=['volume','lx','ly','lz','potential_energy','kinetic_energy','temperature','pressure']\n",
    "\n",
    "hoomd.analyze.log(filename=\"log-output.4.log\",\n",
    "                  quantities=quantities,\n",
    "                  period=100,\n",
    "                  overwrite=True) # keep appending the existing file\n",
    "\n",
    "d = hoomd.dump.dcd(\"dump.dcd\", period=100, group=all, overwrite=True, unwrap_full=False);"
   ]
  },
  {
   "cell_type": "markdown",
   "metadata": {
    "hideCode": false,
    "hidePrompt": false
   },
   "source": [
    "# All is set. We are ready to go!"
   ]
  },
  {
   "cell_type": "markdown",
   "metadata": {
    "hideCode": false,
    "hidePrompt": false
   },
   "source": [
    "Now all parameters are set, you can start the actual molecular dynamics simulation, hurray!\n",
    "The initial configuration is usually very far from the equilibrium, and to lessen large initial fluctuations, it is usually a good idea to start off with a short ($N$,$V$,$T$) simulation before switching to the ($N$,$P$,$T$) ensemble. \n",
    "\n",
    "Only one integrator can be set at a time, so just to be sure will be using the right thing, we disable the npt integrator and enable the nvt."
   ]
  },
  {
   "cell_type": "code",
   "execution_count": 16,
   "metadata": {},
   "outputs": [
    {
     "name": "stderr",
     "output_type": "stream",
     "text": [
      "*Warning*: Ignoring command to enable an integration method that is already enabled"
     ]
    }
   ],
   "source": [
    "npt.disable()\n",
    "nvt.enable()"
   ]
  },
  {
   "cell_type": "markdown",
   "metadata": {},
   "source": [
    "The following simple command performs ``1000`` MD timesteps with the parameters set so far."
   ]
  },
  {
   "cell_type": "code",
   "execution_count": 18,
   "metadata": {
    "hideCode": false,
    "hidePrompt": false,
    "scrolled": true
   },
   "outputs": [
    {
     "name": "stdout",
     "output_type": "stream",
     "text": [
      "** starting run **\n",
      "Time 00:01:35 | Step 1288 / 2000 | TPS 28.7596 | ETA 00:00:24\n",
      "Time 00:01:45 | Step 1583 / 2000 | TPS 29.4787 | ETA 00:00:14\n",
      "Time 00:01:55 | Step 1882 / 2000 | TPS 29.8629 | ETA 00:00:03\n",
      "Time 00:01:59 | Step 2000 / 2000 | TPS 29.6735 | ETA 00:00:00\n",
      "Average TPS: 29.4021\n",
      "---------\n",
      "-- Neighborlist stats:\n",
      "85 normal updates / 10 forced updates / 0 dangerous updates\n",
      "n_neigh_min: 0 / n_neigh_max: 73 / n_neigh_avg: 23.4892\n",
      "shortest rebuild period: 9\n",
      "-- Cell list stats:\n",
      "Dimension: 5, 5, 5\n",
      "n_min    : 1 / n_max: 28 / n_avg: 13.392\n",
      "** run complete **\n"
     ]
    }
   ],
   "source": [
    "hoomd.run(2000)"
   ]
  },
  {
   "cell_type": "markdown",
   "metadata": {
    "hideCode": false,
    "hidePrompt": false
   },
   "source": [
    "``2000`` steps should take approximately one minute. If you perform the ``hoomd.run()`` command again, the simulation will continue from the last configuration available. Between ``hoomd.run()`` commands you can (and are strongly encouraged) to check the status of the simulation (e.g. how the potential energy, the volume, the temperature...etc. changes. Do they fluctuate widely or converged around a value?). "
   ]
  },
  {
   "cell_type": "markdown",
   "metadata": {
    "hideCode": false,
    "hidePrompt": false
   },
   "source": [
    "#### Let's have a quick look at what happend and visualise the trajectory  "
   ]
  },
  {
   "cell_type": "code",
   "execution_count": 22,
   "metadata": {
    "hideCode": false,
    "hidePrompt": false,
    "scrolled": true
   },
   "outputs": [
    {
     "data": {
      "application/vnd.jupyter.widget-view+json": {
       "model_id": "da95f2c30c804f24a3f24599db51bd8c",
       "version_major": 2,
       "version_minor": 0
      },
      "text/plain": [
       "NGLWidget(max_frame=29)"
      ]
     },
     "metadata": {},
     "output_type": "display_data"
    }
   ],
   "source": [
    "p_traj = pt.load('dump.dcd', top='system.pdb')\n",
    "p_view = nv.show_pytraj(p_traj)\n",
    "p_view"
   ]
  },
  {
   "cell_type": "markdown",
   "metadata": {},
   "source": [
    "After the initial pre-equilibration of the system, on the ($N$,$V$,$T$) ensemble, we switch to the ($N$,$P$,$T$) ensemble to equilibrate density of the system as well. Note, the ($N$,$P$,$T$) simulation is a bit slower, especially if the volume decraeses (larger density means more neighboiuring atoms, thus more pair energies to compute!)"
   ]
  },
  {
   "cell_type": "code",
   "execution_count": 20,
   "metadata": {},
   "outputs": [],
   "source": [
    "nvt.disable()\n",
    "npt.enable()"
   ]
  },
  {
   "cell_type": "code",
   "execution_count": 27,
   "metadata": {},
   "outputs": [
    {
     "name": "stdout",
     "output_type": "stream",
     "text": [
      "** starting run **\n",
      "Time 00:06:13 | Step 3110 / 4000 | TPS 10.9169 | ETA 00:01:21\n",
      "Time 00:06:23 | Step 3215 / 4000 | TPS 10.468 | ETA 00:01:14\n",
      "Time 00:06:33 | Step 3316 / 4000 | TPS 10.0741 | ETA 00:01:07\n",
      "Time 00:06:43 | Step 3414 / 4000 | TPS 9.73722 | ETA 00:01:00\n",
      "Time 00:06:53 | Step 3509 / 4000 | TPS 9.46186 | ETA 00:00:51\n",
      "Time 00:07:03 | Step 3601 / 4000 | TPS 9.19979 | ETA 00:00:43\n",
      "Time 00:07:13 | Step 3692 / 4000 | TPS 9.01834 | ETA 00:00:34\n",
      "Time 00:07:23 | Step 3779 / 4000 | TPS 8.61678 | ETA 00:00:25\n",
      "Time 00:07:33 | Step 3865 / 4000 | TPS 8.56062 | ETA 00:00:15\n",
      "Time 00:07:43 | Step 3949 / 4000 | TPS 8.34134 | ETA 00:00:06\n",
      "Time 00:07:49 | Step 4000 / 4000 | TPS 8.30297 | ETA 00:00:00\n",
      "Average TPS: 9.37342\n",
      "---------\n",
      "-- Neighborlist stats:\n",
      "94 normal updates / 10 forced updates / 0 dangerous updates\n",
      "n_neigh_min: 0 / n_neigh_max: 286 / n_neigh_avg: 139.627\n",
      "shortest rebuild period: 8\n",
      "-- Cell list stats:\n",
      "Dimension: 2, 2, 2\n",
      "n_min    : 197 / n_max: 216 / n_avg: 209.25\n",
      "** run complete **\n"
     ]
    }
   ],
   "source": [
    "hoomd.run(1000)"
   ]
  },
  {
   "cell_type": "markdown",
   "metadata": {
    "hideCode": false,
    "hidePrompt": false
   },
   "source": [
    "#### The visualisation is informative, but we need some more solid data to see whether the simulation is converged"
   ]
  },
  {
   "cell_type": "markdown",
   "metadata": {
    "hideCode": false,
    "hidePrompt": false
   },
   "source": [
    "Saved quantities can be read from the produced logfile, and plotted as required. Keep in mind that the order of the quantities is what you have defined at the point of creating the log, (the zeroth column is always the timstep)."
   ]
  },
  {
   "cell_type": "markdown",
   "metadata": {},
   "source": [
    "<span style='background :orange' > Create two graphs to check the evolution of the (a) volume of the simulation box and (b) the potential energy of the system.</span>"
   ]
  },
  {
   "cell_type": "code",
   "execution_count": 28,
   "metadata": {
    "hideCode": false,
    "hidePrompt": false
   },
   "outputs": [],
   "source": [
    "data = np.genfromtxt(fname='log-output.4.log', skip_header=True)\n",
    "# Remember:\n",
    "# quantities=['volume','lx','ly','lz','potential_energy','kinetic_energy','temperature','pressure']"
   ]
  },
  {
   "cell_type": "code",
   "execution_count": 29,
   "metadata": {
    "hideCode": false,
    "hidePrompt": false,
    "scrolled": false
   },
   "outputs": [
    {
     "data": {
      "text/plain": [
       "Text(0, 0.5, 'Volume')"
      ]
     },
     "execution_count": 29,
     "metadata": {},
     "output_type": "execute_result"
    },
    {
     "data": {
      "image/png": "[encoded data removed]",
      "text/plain": [
       "<Figure size 800x400 with 1 Axes>"
      ]
     },
     "metadata": {
      "needs_background": "light"
     },
     "output_type": "display_data"
    }
   ],
   "source": [
    "pyplot.figure(figsize=(8,4), dpi=100)\n",
    "pyplot.plot(data[:,1])\n",
    "pyplot.xlabel('time')\n",
    "pyplot.ylabel('Volume')"
   ]
  },
  {
   "cell_type": "markdown",
   "metadata": {
    "hideCode": false,
    "hidePrompt": false
   },
   "source": [
    "**Tips on handling the ASE atoms object**   \n",
    "Below are a couple of examples how to extract information from the atoms object."
   ]
  },
  {
   "cell_type": "code",
   "execution_count": 28,
   "metadata": {
    "hideCode": false,
    "hidePrompt": false
   },
   "outputs": [],
   "source": [
    "at_configuration=ase.io.read(\"system.extxyz\") # read atoms objects from file\n",
    "box=at_configuration.get_cell() # simulation box parameters (3*3 matrix)\n",
    "vol=at_configuration.get_volume() # volume of the simulation box\n",
    "pos=at_configuration.get_positions() # atomic coordinates\n",
    "N=len(at_configuration) # number of atoms\n",
    "at_type=at_configuration.get_chemical_symbols() # atom_type of each atom"
   ]
  },
  {
   "cell_type": "markdown",
   "metadata": {
    "hideCode": false,
    "hidePrompt": false
   },
   "source": [
    "ASE provides several tools to analyse structural properties of configurations, if necessary modules are loaded (``from ase.geometry.analysis import Analysis``) e.g. to calculate radial distribution functions. For further help on how to use these features, check the manual."
   ]
  },
  {
   "cell_type": "markdown",
   "metadata": {
    "hideCode": false,
    "hidePrompt": false
   },
   "source": [
    "## Computing a radial distribution function\n",
    "\n",
    "This is a function (taken from the CH273 module) which computes the *g(r)*. Said function takes in input the following arguments: \n",
    "* **r**   = a numpy array containing the positions of all the particles\n",
    "* **S**   = the length of the box (which is assumed to be square/cubic in 2/3D !!)\n",
    "* **dr**  = the resolution in r. The smaller this value, the greater the resolution\n",
    "* **dim** = the dimensionality of the system (2 or 3 D)\n",
    "\n",
    "and can be call in this fashion: `rad_py, g_r_py = py_rdf(n_data, length, res_dr, 2)` so as to store *r* and *g(r)* into the `rad_py` and `g_r_py` arrays, respectively."
   ]
  },
  {
   "cell_type": "code",
   "execution_count": 38,
   "metadata": {
    "hideCode": false,
    "hidePrompt": false
   },
   "outputs": [],
   "source": [
    "def py_rdf(r, S, dr, dim):\n",
    "    from numpy import zeros, sqrt, where, pi, mean, arange, histogram, absolute\n",
    "    num_particles  = len(r)\n",
    "    rMax           = S/2.0;\n",
    "    edges          = arange(0., rMax + dr, dr)\n",
    "    num_increments = len(edges) - 1\n",
    "    g              = zeros(num_increments)\n",
    "    radii          = zeros(num_increments)\n",
    "    numberDensity  = len(r) / S**dim\n",
    "\n",
    "    # Compute pairwise correlation for each particle\n",
    "    for index in range(num_particles):\n",
    "\n",
    "        d = 0.0\n",
    "        for i in range(dim):\n",
    "            dp = absolute(r[index,i] - r[:,i])\n",
    "            mask = dp>S/2.0\n",
    "            dp[mask] = S - dp[mask]\n",
    "            d += dp*dp\n",
    "\n",
    "        d = sqrt(d)\n",
    "        d[index] = 2 * rMax\n",
    "\n",
    "        (result, bins) = histogram(d, bins=edges, density=False)\n",
    "        g += result\n",
    "\n",
    "    g = g/(num_particles * numberDensity)\n",
    "\n",
    "    # Normalize the g(r) dividing by the g(r) of an ideal gas - in 2D!\n",
    "    if dim == 2:\n",
    "        for i in range(num_increments):\n",
    "            radii[i] = (edges[i] + edges[i+1]) / 2.\n",
    "            rOuter = edges[i + 1]\n",
    "            rInner = edges[i]\n",
    "            g[i] = g[i] / (2.0 * pi * (rOuter-rInner)* radii[i])\n",
    "    \n",
    "    # Needed to compute the 3D g(r) (blue box)\n",
    "    # Normalize the g(r) divinding by the g(r) of an ideal gas - in 3D!\n",
    "    if dim == 3:\n",
    "        for i in range(num_increments):\n",
    "            radii[i] = (edges[i] + edges[i+1]) / 2.\n",
    "            rOuter = edges[i + 1]\n",
    "            rInner = edges[i]\n",
    "            g[i] = g[i] / (4.0 * pi * (rOuter-rInner)* radii[i] * radii[i] )\n",
    "\n",
    "    return (radii, g)"
   ]
  },
  {
   "cell_type": "code",
   "execution_count": null,
   "metadata": {},
   "outputs": [],
   "source": []
  }
 ],
 "metadata": {
  "hide_code_all_hidden": false,
  "kernelspec": {
   "display_name": "Python 3",
   "language": "python",
   "name": "python3"
  },
  "language_info": {
   "codemirror_mode": {
    "name": "ipython",
    "version": 3
   },
   "file_extension": ".py",
   "mimetype": "text/x-python",
   "name": "python",
   "nbconvert_exporter": "python",
   "pygments_lexer": "ipython3",
   "version": "3.7.4"
  }
 },
 "nbformat": 4,
 "nbformat_minor": 4
}
