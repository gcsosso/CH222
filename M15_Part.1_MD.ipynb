{
 "cells": [
  {
   "cell_type": "code",
   "execution_count": 1,
   "metadata": {},
   "outputs": [
    {
     "data": {
      "text/html": [
       "<script>\n",
       "code_show=true; \n",
       "function code_toggle() {\n",
       "    if (code_show){\n",
       "        $('div.cell.code_cell.rendered.selected div.input').hide();\n",
       "    } else {\n",
       "        $('div.cell.code_cell.rendered.selected div.input').show();\n",
       "    }\n",
       "    code_show = !code_show\n",
       "} \n",
       "$( document ).ready(code_toggle);\n",
       "</script>\n",
       "Some hidden code... to show/hide this cell's raw code input, click (or double click if stubborn!) <a href=\"javascript:code_toggle()\">here</a>."
      ],
      "text/plain": [
       "<IPython.core.display.HTML object>"
      ]
     },
     "metadata": {},
     "output_type": "display_data"
    },
    {
     "data": {
      "text/html": [
       "<style>\n",
       "div.warn {    \n",
       "    background-color: #b3b3ff;\n",
       "    border-color: #0000b3;\n",
       "    border-left: 5px solid #0000b3;\n",
       "    padding: 0.5em;\n",
       "    }\n",
       " </style>\n"
      ],
      "text/plain": [
       "<IPython.core.display.HTML object>"
      ]
     },
     "execution_count": 1,
     "metadata": {},
     "output_type": "execute_result"
    }
   ],
   "source": [
    "from IPython.display import HTML\n",
    "from IPython.display import display\n",
    "\n",
    "# Taken from https://stackoverflow.com/questions/31517194/how-to-hide-one-specific-cell-input-or-output-in-ipython-notebook\n",
    "tag = HTML('''<script>\n",
    "code_show=true; \n",
    "function code_toggle() {\n",
    "    if (code_show){\n",
    "        $('div.cell.code_cell.rendered.selected div.input').hide();\n",
    "    } else {\n",
    "        $('div.cell.code_cell.rendered.selected div.input').show();\n",
    "    }\n",
    "    code_show = !code_show\n",
    "} \n",
    "$( document ).ready(code_toggle);\n",
    "</script>\n",
    "Some hidden code... to show/hide this cell's raw code input, click (or double click if stubborn!) <a href=\"javascript:code_toggle()\">here</a>.''')\n",
    "display(tag)\n",
    "\n",
    "############### Write code below ##################\n",
    "from IPython.core.display import HTML\n",
    "def css_styling():\n",
    "    styles = open(\"./STUFF/colors.css\", \"r\").read()\n",
    "    return HTML(styles)\n",
    "css_styling()"
   ]
  },
  {
   "cell_type": "markdown",
   "metadata": {
    "hideCode": false,
    "hidePrompt": false
   },
   "source": [
    "# CH222"
   ]
  },
  {
   "cell_type": "markdown",
   "metadata": {
    "hideCode": false,
    "hidePrompt": false
   },
   "source": [
    "# Studying the solvation shell of ions via Molecular Dynamics Simulations"
   ]
  },
  {
   "cell_type": "markdown",
   "metadata": {
    "hideCode": false,
    "hidePrompt": false
   },
   "source": [
    "In this computational experiment you will use **molecular dynamics simulations** to investigate the solvation shell of ions at the atomistic level. For this computer experiment the ions and the solvent particles will be represented by relatively simple models (more on that later), and you will examine how the size of the cation and the temperature effect the structure of the solvation shell.\n",
    "\n",
    "You will use the Python-based Jupyter Notebook framework, leveraging Statistical Mechanics to compute structural features of this system.\n",
    "\n",
    "This notebook outlines how to set up the MD simulation using the HOOMD-blue simulation package, and some tips on using the Atomic Simulation Environment (ASE) for handling atomic configurations.\n",
    "\n",
    "You can find further help, features and options on the Manual pages:  \n",
    "[HOOMD-blue page](https://hoomd-blue.readthedocs.io/en/stable/index.html)  \n",
    "[ASE page](https://wiki.fysik.dtu.dk/ase/index.html)"
   ]
  },
  {
   "cell_type": "markdown",
   "metadata": {},
   "source": [
    "<div class=warn>\n",
    "Tasks, where you need to edit the code cells will be shown in similar \"blue boxes\".\n",
    "<div/>"
   ]
  },
  {
   "cell_type": "markdown",
   "metadata": {
    "hideCode": false,
    "hidePrompt": false
   },
   "source": [
    "**IMPORTANT!!!** Use **Google Chrome** to work on the notebook instead of using Microsoft Explorer. The latter handles the visualisation package incorrectly."
   ]
  },
  {
   "cell_type": "markdown",
   "metadata": {
    "hideCode": false,
    "hidePrompt": false
   },
   "source": [
    "## Content of this notebook\n",
    "\n",
    "#### Setting up the simulation (this Notebook)\n",
    "\n",
    "1. Import necessary libraries and initialise HOOMD\n",
    "2. Set simulation parameters\n",
    "3. Create initial configuration\n",
    "4. Initialise the MD engine\n",
    "5. Set the output format - output file and logged quantities\n",
    "6. Perform the MD simulation - hoomd.run()\n",
    "\n",
    "#### Part 2 (\"M15_Part.2_ANALYSIS.ipynb\" Notebook) Analysing the results\n",
    "\n",
    "7. Analysing results"
   ]
  },
  {
   "cell_type": "markdown",
   "metadata": {
    "hideCode": false,
    "hidePrompt": false
   },
   "source": [
    "## 1. Import necessary libraries and initialise HOOMD"
   ]
  },
  {
   "cell_type": "code",
   "execution_count": null,
   "metadata": {
    "hideCode": false,
    "hidePrompt": false
   },
   "outputs": [],
   "source": [
    "import hoomd\n",
    "import hoomd.md\n",
    "from scipy.interpolate import interp1d\n",
    "import matplotlib.pyplot as plt\n",
    "import math\n",
    "from scipy.signal import find_peaks\n",
    "import numpy as np\n",
    "from matplotlib import pyplot \n",
    "import ase # Atomic simulation environment\n",
    "import ase.io\n",
    "from ase.visualize import view\n",
    "#packages necessary to visualise the trajectories\n",
    "import pytraj as pt \n",
    "import nglview as nv\n",
    "\n",
    "hoomd.context.initialize('--mode=cpu')\n",
    "\n",
    "def save_config(hoomd_system,atom_types={\"Cation\":\"C\",\"Solvent\":\"S\",\"Anion\":\"Ar\"}):\n",
    "    \n",
    "    lattice=np.array([hoomd_system.box.get_lattice_vector(i=i) for i in range(3)])\n",
    "    \n",
    "    pos=[system.particles[i].position for i in range(hoomd_system.particles.types.pdata.getN())]\n",
    "    types=[atom_types[system.particles[i].type] for i in range(hoomd_system.particles.types.pdata.getN())]\n",
    "    ase_atoms = ase.Atoms(pbc=(True,True,True),cell=lattice,positions=pos, symbols=types)\n",
    "    \n",
    "    ase_atoms.wrap()\n",
    "    return ase_atoms"
   ]
  },
  {
   "cell_type": "markdown",
   "metadata": {
    "hideCode": false,
    "hidePrompt": false
   },
   "source": [
    "## 2. Set simulation parameters\n",
    "Set the values for the size of the system, potential parameters, temperature, pressure...etc.\n",
    "(A note about the units: since we use the Lennard-Jones potential, the sigma parameter controls the lengthscale of the simulation, the epsilon parameter the energy. Although we could simple work in these Lennard-Jones units, for the sake of easy interpretation we use units and values that feel natural in an atomic system.) "
   ]
  },
  {
   "cell_type": "markdown",
   "metadata": {},
   "source": [
    "<div class=warn>\n",
    "Set the initial box length and the number of solvents below. Note: do not deviate too much from the original values, in order to avoid very high/low densities. </div>"
   ]
  },
  {
   "cell_type": "code",
   "execution_count": null,
   "metadata": {},
   "outputs": [],
   "source": [
    "boxL=18.0 # Angstrom\n",
    "N_solvent=85 # number of solvents per ion pair\n",
    "\n",
    "temperature=    #0.8 # in units of kT\n",
    "pressure=       #0.1 # in units of kJ/mol/Angstrom^3 which is approximatly 160 MPa \n",
    "timestep=0.5    # length of one timestep in units of femtosecond \n",
    "\n",
    "solvent_sigma=1.0 # Angstrom\n",
    "solvent_epsilon=1.0 # kJ/mol\n",
    "\n",
    "anion_sigma=    #1.0 # Angstrom\n",
    "anion_epsilon=  #1.0 # kJ/mol\n",
    "\n",
    "cation_sigma=   #2.0 # Angstrom\n",
    "cation_epsilon= #1.0 # kJ/mol"
   ]
  },
  {
   "cell_type": "markdown",
   "metadata": {
    "hideCode": false,
    "hidePrompt": false
   },
   "source": [
    "## 3. Create initial configuration"
   ]
  },
  {
   "cell_type": "markdown",
   "metadata": {
    "hideCode": false,
    "hidePrompt": false
   },
   "source": [
    "First we need to create the **inital configuration** for the simulation to start from: \n",
    "We create an initial cubic cell with randomly positioned atoms, then replicate this cell in each Cartesian direction (3 times) to create our actual simulation box.\n",
    "\n",
    "(Note: You can define the system only once, thus you can execute the code cell below only once. If you want to experiment with different setups, you need to restart the kernel or initialize the hoomd.context again!)"
   ]
  },
  {
   "cell_type": "code",
   "execution_count": null,
   "metadata": {
    "hideCode": false,
    "hidePrompt": false
   },
   "outputs": [],
   "source": [
    "position=[]\n",
    "type_name=[]\n",
    "charge=[]\n",
    "mass=[]\n",
    "\n",
    "#Add one cation\n",
    "position.append([0.0, 0.0, 0.0])\n",
    "type_name.append('Cation')\n",
    "charge.append(1.0)\n",
    "mass.append(1.0)\n",
    "    \n",
    "#Add one anion    \n",
    "position.append([3.0, 3.0, 3.0])\n",
    "type_name.append('Anion')\n",
    "charge.append(-1.0)\n",
    "mass.append(1.0)\n",
    "\n",
    "boxL=boxL/3.0\n",
    "#Add solvent particles\n",
    "for i in range(N_solvent):\n",
    "    #print(\"Adding atom\", i, \"of\",N_solvent)\n",
    "    generate_new=True\n",
    "    while generate_new: \n",
    "        trial=np.random.rand(3)*(boxL-1.0)\n",
    "        generate_new=False\n",
    "        for j in range(i+2):\n",
    "            if (np.linalg.norm(position[j]-trial)<1.0):\n",
    "                generate_new=True\n",
    "    position.append(trial)\n",
    "    type_name.append('Solvent')\n",
    "    charge.append(0.0)\n",
    "    mass.append(1.0)\n",
    "    \n",
    "#Create the initial cell    \n",
    "initial_cell = hoomd.lattice.unitcell(N = N_solvent+2, # number of atoms in the initial cell\n",
    "                a1 = [boxL,0,0],\n",
    "                a2 = [0,boxL,0],\n",
    "                a3 = [0,0,boxL], # these define a cubic box of length boxL \n",
    "                position = position, # set positions for the two atoms (they should not be placed on top of each other)\n",
    "                type_name = type_name,\n",
    "                charge = charge,\n",
    "                mass = mass,  \n",
    "                            );\n",
    "\n",
    "#Using the initial cell as a building block, create a larger cell. This one will be used for the simulation.\n",
    "system=hoomd.init.create_lattice(initial_cell,n=3) "
   ]
  },
  {
   "cell_type": "markdown",
   "metadata": {},
   "source": [
    "<div class=warn>\n",
    "Now it's time to have a look at our system - It's always a good idea to see what we have created!  </div>"
   ]
  },
  {
   "cell_type": "markdown",
   "metadata": {
    "hideCode": false,
    "hidePrompt": false
   },
   "source": [
    "We need a \"topology file\" (a single configuration of the system containing information about which and how many atoms we have, the simulation box, etc...) and a \"trajectory file\", which contains information about the time evolution of the system. \n",
    "\n",
    "HOOMD writes the trajectory file as a binary .dcd file. In order to write the topology file, we will make use of the Atomic Simulation Environment (ASE) instead. The short ``save_config`` function (included at the beginning of the notebook) extracts the simulation box parameters and the atomic coordinates from the hoomd ``system`` we have defined, and creates an atoms object from it. \n",
    "\n",
    "**Note:** ASE expects real atomic symbols as atom types, thus e.g. ``Solvent`` will not work. Hence, we will call our particle types S (solvent), C (Cation) and Ar (Anion), this will only effect the visualisation and how you refer to the atoms during the analysis code. "
   ]
  },
  {
   "cell_type": "code",
   "execution_count": null,
   "metadata": {
    "hideCode": false,
    "hidePrompt": false
   },
   "outputs": [],
   "source": [
    "# Visualise the starting configuration\n",
    "current_config = save_config(system)\n",
    "\n",
    "# Writes a topology file in .pdb format via ASE \n",
    "ase.io.write(\"system.pdb\", current_config)\n",
    "\n",
    "# Use the py_traj package to load the topology file (we don't have trajectory file as we have not run any MD yet!)\n",
    "conf_ini = pt.load('system.pdb')\n",
    "\n",
    "# Show...\n",
    "# NOTE: if you are running the entire Notebook from top to bottom in one go \n",
    "# by e.g. \"Kernel -> Restart & Run all\" you'll have to wait for the kernel to\n",
    "# execute ALL cells before the visualisation shows up!\n",
    "p_view = nv.show_pytraj(conf_ini)\n",
    "p_view.add_unitcell()\n",
    "p_view"
   ]
  },
  {
   "cell_type": "markdown",
   "metadata": {
    "hideCode": false,
    "hidePrompt": false
   },
   "source": [
    "## 4. Initialise the MD engine\n",
    "\n",
    "Initialise the potential model, the way the neighbour list of particles are calculated and the how the long range electrostatic interaction is calculated.\n",
    "We also initialise the thermostat and the barostat to keep the temperature and pressure constant. Define the timestep."
   ]
  },
  {
   "cell_type": "code",
   "execution_count": null,
   "metadata": {
    "hideCode": false,
    "hidePrompt": false
   },
   "outputs": [],
   "source": [
    "nl = hoomd.md.nlist.cell() # neighbour list to keep track of the atomic distances - this makes the calculation more efficient\n",
    "lj = hoomd.md.pair.lj(r_cut=3.5, nlist=nl) # define potential\n",
    "lj.pair_coeff.set('Solvent', 'Solvent', epsilon=solvent_epsilon, sigma=solvent_sigma)\n",
    "lj.pair_coeff.set('Solvent', 'Anion',  epsilon=np.sqrt(solvent_epsilon*anion_epsilon), sigma=(solvent_sigma+anion_sigma)/2.0)\n",
    "lj.pair_coeff.set('Solvent', 'Cation', epsilon=np.sqrt(solvent_epsilon*cation_epsilon), sigma=(solvent_sigma+cation_sigma)/2.0)\n",
    "lj.pair_coeff.set('Anion', 'Cation', epsilon=np.sqrt(cation_epsilon*anion_epsilon), sigma=(cation_sigma+anion_sigma)/2.0)\n",
    "lj.pair_coeff.set('Anion', 'Anion', epsilon=anion_epsilon, sigma=anion_sigma)\n",
    "lj.pair_coeff.set('Cation', 'Cation', epsilon=cation_epsilon, sigma=cation_sigma)\n",
    "#define long range electrostatic interaction: using the particle-particle-particle mesh Ewald method.\n",
    "charged = hoomd.group.charged()\n",
    "all = hoomd.group.all()\n",
    "pppm = hoomd.md.charge.pppm(group=charged, nlist=nl)\n",
    "pppm.set_params(Nx=32, Ny=32, Nz=32, order=5, rcut=3.5)\n",
    "# define timestep\n",
    "hoomd.md.integrate.mode_standard(dt=timestep/100); # to convert it to units hoomd expects it\n",
    "# initialise thermostat and barostat to be able to use different ensembles\n",
    "nvt = hoomd.md.integrate.langevin(group=all, kT=temperature, seed=10)\n",
    "npt = hoomd.md.integrate.npt(group=all, kT=temperature, tau=3.0, P=pressure, tauP = 3.0, couple=\"xyz\")"
   ]
  },
  {
   "cell_type": "markdown",
   "metadata": {
    "hideCode": false,
    "hidePrompt": false
   },
   "source": [
    "## 5. Set the output format\n",
    "\n",
    "What quantities should be collected, how often, and where they should be saved during the MD simulation?\n",
    "A number of quantities are calculated during a simulation, and these can be logged so we can check and analyse them later. A few example of useful quantities are below, you can choose which ones to include (or all of them). The log file is a text file, with each column corresponding to the quantities defined, in the same order. Output data is written to the file line by line at every period timestep."
   ]
  },
  {
   "cell_type": "markdown",
   "metadata": {},
   "source": [
    "<div class=warn> Define the output filenames you would like to use. </div>\n",
    "(The setting below will result in a filename reflecting the temperature and pressure of the simulation, but you are free to choose a different filename if you wish.)"
   ]
  },
  {
   "cell_type": "code",
   "execution_count": null,
   "metadata": {
    "hideCode": false,
    "hidePrompt": false
   },
   "outputs": [],
   "source": [
    "log_filename=\"MD_T{:.3f}_p{:.3f}.out\".format(temperature,pressure)\n",
    "dcd_filename=\"MD_T{:.3f}_p{:.3f}.dcd\".format(temperature,pressure)\n",
    "quantities=['volume','lx','ly','lz','potential_energy','kinetic_energy','temperature','pressure']\n",
    "\n",
    "hoomd.analyze.log(filename=log_filename,\n",
    "                  quantities=quantities,\n",
    "                  period=50,\n",
    "                  overwrite=True) # keep appending the existing file\n",
    "\n",
    "d = hoomd.dump.dcd(dcd_filename, period=250, group=all, overwrite=True, unwrap_full=False);"
   ]
  },
  {
   "cell_type": "markdown",
   "metadata": {
    "hideCode": false,
    "hidePrompt": false
   },
   "source": [
    "# 6. All is set. We are ready to go!"
   ]
  },
  {
   "cell_type": "markdown",
   "metadata": {
    "hideCode": false,
    "hidePrompt": false
   },
   "source": [
    "Now all parameters are set, you can start the actual molecular dynamics simulation, hurray!\n",
    "The initial configuration is usually very far from the equilibrium, and to lessen large initial fluctuations, it is usually a good idea to start with a short ($N$,$V$,$T$) simulation before switching to the ($N$,$P$,$T$) ensemble. \n",
    "\n",
    "Only one integrator can be set at a time, so just to be sure we'll be using the right thing, we disable the npt integrator and enable the nvt. (This might give a warning that nvt has been already enabled, that's okay.)\n",
    "\n",
    "**Note**: hoomd will throw a warning about the fact that we are enabling the `nvt` framework whilst it has been enabled already. That's ok, we added that line (which is indeed redundant, as when we have defined both `npt` and `nvt` that enabled them both) to make clear that you have to disable/enable the framework of choice before running the MD. "
   ]
  },
  {
   "cell_type": "code",
   "execution_count": null,
   "metadata": {},
   "outputs": [],
   "source": [
    "npt.disable()\n",
    "nvt.enable()\n",
    "# Ignore the warning...\n",
    "hoomd.run(2000) # perform 2000 MD steps."
   ]
  },
  {
   "cell_type": "markdown",
   "metadata": {
    "hideCode": false,
    "hidePrompt": false
   },
   "source": [
    "``2000`` steps should take less than one minute. If you perform the ``hoomd.run()`` command again, the simulation will continue from the last configuration available.  "
   ]
  },
  {
   "cell_type": "markdown",
   "metadata": {},
   "source": [
    "After the initial pre-equilibration of the system, on the ($N$,$V$,$T$) ensemble, we switch to the ($N$,$P$,$T$) ensemble to equilibrate the density of the system as well. Note, the ($N$,$P$,$T$) simulation is a bit slower, especially if the volume decreases (larger density means more neighbouring atoms, thus more pair-energies to compute!)"
   ]
  },
  {
   "cell_type": "code",
   "execution_count": null,
   "metadata": {},
   "outputs": [],
   "source": [
    "nvt.disable()\n",
    "npt.enable()"
   ]
  },
  {
   "cell_type": "code",
   "execution_count": null,
   "metadata": {},
   "outputs": [],
   "source": [
    "hoomd.run(10000)"
   ]
  },
  {
   "cell_type": "code",
   "execution_count": null,
   "metadata": {
    "hideCode": false,
    "hidePrompt": false,
    "scrolled": true
   },
   "outputs": [],
   "source": [
    "# Visualise the entire trajectory (NVT + NPT!)\n",
    "# If you want to split the two runs you will have to modify the output files above\n",
    "# As at the moment we are \"appending\" our results in terms of observables (temperature, pressure...) \n",
    "# and trajectories to md.log and dump.dcd, respectively\n",
    "\n",
    "# Load the trajectory and the topology\n",
    "p_traj = pt.load(dcd_filename, top='system.pdb')\n",
    "p_view = nv.show_pytraj(p_traj)\n",
    "p_view"
   ]
  },
  {
   "cell_type": "markdown",
   "metadata": {
    "hideCode": false,
    "hidePrompt": false
   },
   "source": [
    "#### The visualisation is informative, but we need some more solid data to see whether the simulation is converged"
   ]
  },
  {
   "cell_type": "markdown",
   "metadata": {
    "hideCode": false,
    "hidePrompt": false
   },
   "source": [
    "Check the status of the simulation (e.g. how the potential energy, the volume, the temperature...etc. changes. Do they fluctuate widely or are converged around a certainn value?). Saved quantities can be read from the produced logfile, and plotted as required. Keep in mind that the order of the quantities is what you have defined at the point of creating the log, (the zeroth column is always the timstep)."
   ]
  },
  {
   "cell_type": "markdown",
   "metadata": {},
   "source": [
    "<div class=warn> Create two graphs to check the evolution of the (a) volume of the simulation box and (b) the potential energy of the system. Remember to label the axis correctly (i.e. including units!). </div>"
   ]
  },
  {
   "cell_type": "code",
   "execution_count": null,
   "metadata": {
    "hideCode": false,
    "hidePrompt": false
   },
   "outputs": [],
   "source": [
    "data = np.genfromtxt(fname=log_filename, skip_header=True)\n",
    "# Remember:\n",
    "# quantities=['volume','lx','ly','lz','potential_energy','kinetic_energy','temperature','pressure']"
   ]
  },
  {
   "cell_type": "code",
   "execution_count": null,
   "metadata": {
    "hideCode": false,
    "hidePrompt": false,
    "scrolled": false
   },
   "outputs": [],
   "source": [
    "# pyplot.figure(figsize=(8,4), dpi=100)\n",
    "fig=plt.figure(num=None,figsize=(5,3),dpi=200,facecolor='w',edgecolor='k')\n",
    "pyplot.plot(data[:,0]*0.5,data[:,1]) # convert timestep to time\n",
    "pyplot.xlabel('Time [fs]')\n",
    "pyplot.ylabel('Volume (Å$^3$)')\n",
    "plt.show()"
   ]
  },
  {
   "cell_type": "markdown",
   "metadata": {},
   "source": [
    "How can you decide whether your run is equilibrated and is ready to start collecting data?  "
   ]
  },
  {
   "cell_type": "markdown",
   "metadata": {},
   "source": [
    "If you still see a systematic change in the volume or the energy, thus not yet reached the phase where these quantities fluctuate around an average value, you need to continue the simulation a bit longer! Execute the command `hoomd.run(10000)` again until you're satisfied the system reached equilibrium. In a markdown cell, briefly discuss the outcome of your equilibration protocol with specific reference to the graphs you have generated. </div>"
   ]
  }
 ],
 "metadata": {
  "hide_code_all_hidden": false,
  "kernelspec": {
   "display_name": "Python 3",
   "language": "python",
   "name": "python3"
  },
  "language_info": {
   "codemirror_mode": {
    "name": "ipython",
    "version": 3
   },
   "file_extension": ".py",
   "mimetype": "text/x-python",
   "name": "python",
   "nbconvert_exporter": "python",
   "pygments_lexer": "ipython3",
   "version": "3.7.3"
  }
 },
 "nbformat": 4,
 "nbformat_minor": 4
}
