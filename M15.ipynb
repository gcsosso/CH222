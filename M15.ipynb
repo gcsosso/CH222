{
 "cells": [
  {
   "cell_type": "code",
   "execution_count": 1,
   "metadata": {},
   "outputs": [
    {
     "data": {
      "text/html": [
       "<script>\n",
       "code_show=true; \n",
       "function code_toggle() {\n",
       "    if (code_show){\n",
       "        $('div.cell.code_cell.rendered.selected div.input').hide();\n",
       "    } else {\n",
       "        $('div.cell.code_cell.rendered.selected div.input').show();\n",
       "    }\n",
       "    code_show = !code_show\n",
       "} \n",
       "$( document ).ready(code_toggle);\n",
       "</script>\n",
       "Some hidden code... to show/hide this cell's raw code input, click (or double click if stubborn!) <a href=\"javascript:code_toggle()\">here</a>."
      ],
      "text/plain": [
       "<IPython.core.display.HTML object>"
      ]
     },
     "metadata": {},
     "output_type": "display_data"
    },
    {
     "data": {
      "text/html": [
       "<style>\n",
       "div.warn {    \n",
       "    background-color: #b3b3ff;\n",
       "    border-color: #0000b3;\n",
       "    border-left: 5px solid #0000b3;\n",
       "    padding: 0.5em;\n",
       "    }\n",
       " </style>\n"
      ],
      "text/plain": [
       "<IPython.core.display.HTML object>"
      ]
     },
     "execution_count": 1,
     "metadata": {},
     "output_type": "execute_result"
    }
   ],
   "source": [
    "from IPython.display import HTML\n",
    "from IPython.display import display\n",
    "\n",
    "# Taken from https://stackoverflow.com/questions/31517194/how-to-hide-one-specific-cell-input-or-output-in-ipython-notebook\n",
    "tag = HTML('''<script>\n",
    "code_show=true; \n",
    "function code_toggle() {\n",
    "    if (code_show){\n",
    "        $('div.cell.code_cell.rendered.selected div.input').hide();\n",
    "    } else {\n",
    "        $('div.cell.code_cell.rendered.selected div.input').show();\n",
    "    }\n",
    "    code_show = !code_show\n",
    "} \n",
    "$( document ).ready(code_toggle);\n",
    "</script>\n",
    "Some hidden code... to show/hide this cell's raw code input, click (or double click if stubborn!) <a href=\"javascript:code_toggle()\">here</a>.''')\n",
    "display(tag)\n",
    "\n",
    "############### Write code below ##################\n",
    "from IPython.core.display import HTML\n",
    "def css_styling():\n",
    "    styles = open(\"./STUFF/colors.css\", \"r\").read()\n",
    "    return HTML(styles)\n",
    "css_styling()"
   ]
  },
  {
   "cell_type": "markdown",
   "metadata": {
    "hideCode": false,
    "hidePrompt": false
   },
   "source": [
    "# CH222"
   ]
  },
  {
   "cell_type": "markdown",
   "metadata": {
    "hideCode": false,
    "hidePrompt": false
   },
   "source": [
    "# Studying the solvation shell of ions via Molecular Dynamics Simulations"
   ]
  },
  {
   "cell_type": "markdown",
   "metadata": {
    "hideCode": false,
    "hidePrompt": false
   },
   "source": [
    "In this computational experiment you will use **molecular dynamics simulations** to investigate the solvation shell of ions at the atomistic level. For this computer experiment the ions and the solvent particles will be represented by relatively simple models (more on that later), and you will examine how the size of the cation and the temperature effect the structure of the solvation shell.\n",
    "\n",
    "You will use the Python-based Jupyter Notebook framework, leveraging Statistical Mechanics to compute structural features of this system.\n",
    "\n",
    "This notebook outlines how to set up the MD simulation using the HOOMD-blue simulation package, and some tips on using the Atomic Simulation Environment (ASE) for handling atomic configurations.\n",
    "\n",
    "You can find further help, features and options on the Manual pages:  \n",
    "[HOOMD-blue page](https://hoomd-blue.readthedocs.io/en/stable/index.html)  \n",
    "[ASE page](https://wiki.fysik.dtu.dk/ase/index.html)"
   ]
  },
  {
   "cell_type": "markdown",
   "metadata": {},
   "source": [
    "<div class=warn>\n",
    "Tasks, where you need to edit the code cells will be shown in similar \"blue boxes\".\n",
    "<div/>"
   ]
  },
  {
   "cell_type": "markdown",
   "metadata": {
    "hideCode": false,
    "hidePrompt": false
   },
   "source": [
    "**IMPORTANT!!!** Use **Google Chrome** to work on the notebook instead of using Microsoft Explorer. The latter handles the visualisation package incorrectly."
   ]
  },
  {
   "cell_type": "markdown",
   "metadata": {
    "hideCode": false,
    "hidePrompt": false
   },
   "source": [
    "## Content of this notebook\n",
    "\n",
    "#### Setting up the simulation\n",
    "\n",
    "1. Import necessary libraries and initialise HOOMD\n",
    "2. Set up the system - initial structure, number of atoms\n",
    "3. Define interaction between particles - binary Lennard-Jones\n",
    "4. Set up the MD simulation and the ensemble - set the integrator, temperature, pressure\n",
    "5. Set the output format - output file and logged quantities\n",
    "\n",
    "#### Performing the simulation\n",
    "\n",
    "6. Perform the simulation - hoomd.run()\n",
    "\n",
    "   Saving the atomic coordinates and visualising the system \n",
    "\n",
    "#### Analysing the results\n",
    "\n",
    "7. Analysing results"
   ]
  },
  {
   "cell_type": "markdown",
   "metadata": {
    "hideCode": false,
    "hidePrompt": false
   },
   "source": [
    "## 1. Import necessary libraries and initialise HOOMD"
   ]
  },
  {
   "cell_type": "markdown",
   "metadata": {
    "hideCode": false,
    "hidePrompt": false
   },
   "source": [
    "Import the hoomd python package and the md component we will use to perform MD simulations."
   ]
  },
  {
   "cell_type": "code",
   "execution_count": 2,
   "metadata": {
    "hideCode": false,
    "hidePrompt": false
   },
   "outputs": [],
   "source": [
    "import hoomd\n",
    "import hoomd.md\n",
    "from scipy.interpolate import interp1d\n",
    "import matplotlib.pyplot as plt"
   ]
  },
  {
   "cell_type": "markdown",
   "metadata": {
    "hideCode": false,
    "hidePrompt": false
   },
   "source": [
    "We need to initialize the execution context to control where HOOMD will execute the simulation. We will run the simulations on the CPU (HOOMD also allows options for GPU, but we won't use them)."
   ]
  },
  {
   "cell_type": "code",
   "execution_count": 3,
   "metadata": {
    "hideCode": false,
    "hidePrompt": false,
    "scrolled": true
   },
   "outputs": [
    {
     "name": "stdout",
     "output_type": "stream",
     "text": [
      "HOOMD-blue 2.9.3 DOUBLE HPMC_MIXED TBB SSE SSE2 SSE3 \n",
      "Compiled: 12/16/2020\n",
      "Copyright (c) 2009-2019 The Regents of the University of Michigan.\n",
      "-----\n",
      "You are using HOOMD-blue. Please cite the following:\n",
      "* J A Anderson, J Glaser, and S C Glotzer. \"HOOMD-blue: A Python package for\n",
      "  high-performance molecular dynamics and hard particle Monte Carlo\n",
      "  simulations\", Computational Materials Science 173 (2020) 109363\n",
      "-----\n",
      "HOOMD-blue is running on the CPU\n"
     ]
    }
   ],
   "source": [
    "hoomd.context.initialize('--mode=cpu');"
   ]
  },
  {
   "cell_type": "markdown",
   "metadata": {
    "hideCode": false,
    "hidePrompt": false
   },
   "source": [
    "Import some further python packages we will need for analysing and visualising simulations results."
   ]
  },
  {
   "cell_type": "code",
   "execution_count": 4,
   "metadata": {
    "hideCode": false,
    "hidePrompt": false
   },
   "outputs": [
    {
     "data": {
      "application/vnd.jupyter.widget-view+json": {
       "model_id": "f16da5433b5e4c9ab588918fafb3adc7",
       "version_major": 2,
       "version_minor": 0
      },
      "text/plain": []
     },
     "metadata": {},
     "output_type": "display_data"
    }
   ],
   "source": [
    "import numpy as np\n",
    "from matplotlib import pyplot \n",
    "import ase # Atomic simulation environment\n",
    "import ase.io\n",
    "from ase.visualize import view\n",
    "#packages necessary to visualise the trajectories\n",
    "import pytraj as pt \n",
    "import nglview as nv"
   ]
  },
  {
   "cell_type": "markdown",
   "metadata": {
    "hideCode": false,
    "hidePrompt": false
   },
   "source": [
    "## 2. Create initial configuration"
   ]
  },
  {
   "cell_type": "markdown",
   "metadata": {
    "hideCode": false,
    "hidePrompt": false
   },
   "source": [
    "First we need to create the **inital configuration** for the simulation to start from: \n",
    "\n",
    "- size of the simulation box\n",
    "- number of atoms in the system\n",
    "- position of the atoms (coordinates)\n",
    "\n",
    "We define our simulation system as the following: we create an initial smaller cell, than we will replicate this cell in each Cartesian direction (3 times) to create our actual simulation box.\n",
    "\n",
    "The initial small cell is cubic, with box length 5.5 One ion pair is placed within this, with 85 solvent particles. Their coordinates are randomly generated with the condition they are not closer to 1.0 to avoid atomic overlaps. \n",
    "(Note: You can define the system only once, thus you can execute the code cell below only once. If you want to experiment with different setups, you need to restart the kernel or initialize the hoomd.context again!)"
   ]
  },
  {
   "cell_type": "markdown",
   "metadata": {},
   "source": [
    "<div class=warn>\n",
    "Set the box length and the number of solvents below: </div>"
   ]
  },
  {
   "cell_type": "code",
   "execution_count": 5,
   "metadata": {},
   "outputs": [],
   "source": [
    "boxL=5.5\n",
    "N_solvent=85"
   ]
  },
  {
   "cell_type": "markdown",
   "metadata": {},
   "source": [
    "It might take a couple of seconds to create the box (find positions with no particles overlapping)."
   ]
  },
  {
   "cell_type": "code",
   "execution_count": 6,
   "metadata": {
    "hideCode": false,
    "hidePrompt": false
   },
   "outputs": [
    {
     "name": "stdout",
     "output_type": "stream",
     "text": [
      "notice(2): Group \"all\" created containing 2349 particles\n"
     ]
    }
   ],
   "source": [
    "position=[]\n",
    "type_name=[]\n",
    "charge=[]\n",
    "mass=[]\n",
    "\n",
    "#Add one cation\n",
    "position.append([0.0, 0.0, 0.0])\n",
    "type_name.append('Cation')\n",
    "charge.append(1.0)\n",
    "mass.append(1.0)\n",
    "    \n",
    "#Add one anion    \n",
    "position.append([3.0, 3.0, 3.0])\n",
    "type_name.append('Anion')\n",
    "charge.append(-1.0)\n",
    "mass.append(1.0)\n",
    "\n",
    "#Add solvent particles\n",
    "for i in range(N_solvent):\n",
    "    generate_new=True \n",
    "    while generate_new: \n",
    "        trial=np.random.rand(3)*(boxL-1.0)\n",
    "        generate_new=False\n",
    "        for j in range(i+2):\n",
    "            if (np.linalg.norm(position[j]-trial)<1.0):\n",
    "                generate_new=True\n",
    "    position.append(trial)\n",
    "    type_name.append('Solvent')\n",
    "    charge.append(0.0)\n",
    "    mass.append(1.0)\n",
    "    \n",
    "#Create the initial cell    \n",
    "initial_cell = hoomd.lattice.unitcell(N = N_solvent+2, # number of atoms in the initial cell\n",
    "                a1 = [boxL,0,0],\n",
    "                a2 = [0,boxL,0],\n",
    "                a3 = [0,0,boxL], # these define a cubic box of length boxL \n",
    "                position = position, # set positions for the two atoms (they should not be placed on top of each other)\n",
    "                type_name = type_name,\n",
    "                charge = charge,\n",
    "                mass = mass,  \n",
    "                            );\n",
    "\n",
    "#Using the initial cell as a building block, create a larger cell. This one will be used for the simulation.\n",
    "system=hoomd.init.create_lattice(initial_cell,n=3) "
   ]
  },
  {
   "cell_type": "markdown",
   "metadata": {
    "hideCode": false,
    "hidePrompt": false
   },
   "source": [
    "####  Now it's time to have a look at our system - It's always a good idea to see what we have created! \n",
    "\n",
    "In order to visualise the molecular dynaimcs trajectories, we will use the ```py_traj``` package. To do so, we need a \"topology file\" (a single configuration of the system containing information about which and how many atoms we have, the simulation box, etc...) and a \"trajectory file\", which contains information about the time evolution of the system. \n",
    "\n",
    "HOOMD writes the trajectory file as a binary .dcd file. In order to write the topology file, we will make use of the Atomic Simulation Environment (ASE) instead. The short ``save_config`` function below extracts the simulation box parameters and the atomic coordinates from the hoomd ``system`` we have defined, and creates an atoms object from it. \n",
    "\n",
    "**Note:** ASE expects real atomic symbols as atom types, thus e.g. ``Solvent`` will not work. Hence, we will call our particle types S (solvent), C (Cation) and Ar (Anion), this will only effect the visualisation and how you refer to the atoms during the analysis code. "
   ]
  },
  {
   "cell_type": "code",
   "execution_count": 7,
   "metadata": {
    "hideCode": false,
    "hidePrompt": false
   },
   "outputs": [],
   "source": [
    "def save_config(hoomd_system,atom_types=[\"C\",\"Ar\",\"S\"]):\n",
    "    \n",
    "    lattice=np.array([hoomd_system.box.get_lattice_vector(i=i) for i in range(3)])\n",
    "    x2 = int(lattice[[0],[0]]) / 2\n",
    "    y2 = int(lattice[[1],[1]]) / 2\n",
    "    z2 = int(lattice[[2],[2]]) / 2\n",
    "\n",
    "    ase_atoms=ase.Atoms(pbc=[(True,True,True)],cell=lattice)\n",
    "    \n",
    "    for i in range(system.particles.types.pdata.getN()):\n",
    "        i_type = system.particles.types.pdata.getType(i)\n",
    "        i_pos = hoomd_system.particles.pdata.getPosition(i)\n",
    "        i_pos.x = i_pos.x + x2 ; i_pos.y = i_pos.y + y2 ; i_pos.z = i_pos.z + z2\n",
    "        ase_atoms.append(ase.Atom(atom_types[i_type],position=[i_pos.x,i_pos.y,i_pos.z]))\n",
    "    return ase_atoms"
   ]
  },
  {
   "cell_type": "code",
   "execution_count": 8,
   "metadata": {
    "hideCode": false,
    "hidePrompt": false
   },
   "outputs": [
    {
     "data": {
      "application/vnd.jupyter.widget-view+json": {
       "model_id": "0401861ef45d4a9db4ced15eed667cee",
       "version_major": 2,
       "version_minor": 0
      },
      "text/plain": [
       "NGLWidget()"
      ]
     },
     "metadata": {},
     "output_type": "display_data"
    }
   ],
   "source": [
    "# Visualise the starting configuration\n",
    "current_config = save_config(system)\n",
    "\n",
    "# Writes a topology file in .pdb format via ASE \n",
    "ase.io.write(\"system.pdb\", current_config)\n",
    "\n",
    "# Use the py_traj package to load the topology file (we don't have trajectory file as we have not run any MD yet!)\n",
    "conf_ini = pt.load('system.pdb')\n",
    "\n",
    "# Show...\n",
    "# NOTE: if you are running the entire Notebook from top to bottom in one go \n",
    "# by e.g. \"Kernel -> Restart & Run all\" you'll have to wait for the kernel to\n",
    "# execute ALL cells before the visualisation shows up!\n",
    "p_view = nv.show_pytraj(conf_ini)\n",
    "p_view.add_unitcell()\n",
    "p_view"
   ]
  },
  {
   "cell_type": "markdown",
   "metadata": {
    "hideCode": false,
    "hidePrompt": false
   },
   "source": [
    "## 3. Define the interaction between particles\n",
    "\n",
    "A key part of any materials modelling calculation is how we describe the intercation between particles. In this section we define the parameters for that. "
   ]
  },
  {
   "cell_type": "code",
   "execution_count": 9,
   "metadata": {
    "hideCode": false,
    "hidePrompt": false
   },
   "outputs": [],
   "source": [
    "nl = hoomd.md.nlist.cell() # neighbour list to keep track of the atomic distances - this makes the calculation more efficient"
   ]
  },
  {
   "cell_type": "markdown",
   "metadata": {
    "hideCode": false,
    "hidePrompt": false
   },
   "source": [
    "The next step is to initialise the Lennard-Jones potential, and set the cutoff distance, ``r_cut``. If two atoms are further away from each other than this distance, their pair energy contribution will be zero (the further they are, the weaker the interaction, thus it is a reasonable approximation in most cases). "
   ]
  },
  {
   "cell_type": "code",
   "execution_count": 10,
   "metadata": {
    "hideCode": false,
    "hidePrompt": false
   },
   "outputs": [],
   "source": [
    "lj = hoomd.md.pair.lj(r_cut=3.5, nlist=nl) # define potential"
   ]
  },
  {
   "cell_type": "markdown",
   "metadata": {
    "hideCode": false,
    "hidePrompt": false
   },
   "source": [
    "We will use the Lennard-Jones potential to describe the van der Waals interaction between the particles. We need to set two parameters, $\\sigma$ (which determins the distance) and $\\epsilon$ (which determins the strength of the interaction), for all combinations of pair types. These parameters also determine the energy and distance scale of the simulation (reminder: temperature is in $kT/\\epsilon$ units, and pressure is in $P\\sigma^3/\\epsilon$ units)."
   ]
  },
  {
   "cell_type": "markdown",
   "metadata": {},
   "source": [
    "<div class=warn> Calculate the Lennard-Jones parameters for the mixed-type interactions using the Lorentz-Berthelot rule, and set the LJ parameters below: </div>"
   ]
  },
  {
   "cell_type": "code",
   "execution_count": 11,
   "metadata": {
    "hideCode": false,
    "hidePrompt": false
   },
   "outputs": [],
   "source": [
    "lj.pair_coeff.set('Solvent', 'Solvent', epsilon=1.0, sigma=1.0)\n",
    "lj.pair_coeff.set('Solvent', 'Anion',  epsilon=1.0, sigma=1.0)\n",
    "lj.pair_coeff.set('Solvent', 'Cation', epsilon=1.0, sigma=1.5)\n",
    "lj.pair_coeff.set('Anion', 'Cation', epsilon=1.0, sigma=1.5)\n",
    "lj.pair_coeff.set('Anion', 'Anion', epsilon=1.0, sigma=1.0)\n",
    "lj.pair_coeff.set('Cation', 'Cation', epsilon=1.0, sigma=2.0)"
   ]
  },
  {
   "cell_type": "markdown",
   "metadata": {},
   "source": [
    "Of course, the charged particles also have electrostatic interaction, which needs to be calculated. Since the Coulomb interaction converges towards zero much more slowly than the Lennard-Jones interaction, the longer range contribution has to be taken into account. This is done by the so called Particle-particle-particle mesh Ewald technique, which is initialised below.   "
   ]
  },
  {
   "cell_type": "code",
   "execution_count": 12,
   "metadata": {},
   "outputs": [
    {
     "name": "stdout",
     "output_type": "stream",
     "text": [
      "notice(2): Group \"charged\" created containing 54 particles\n",
      "-----\n",
      "You are using PPPM. Please cite the following:\n",
      "* D N LeBard, B G Levine, S A Barr, A Jusufi, S Sanders, M L Klein, and A Z\n",
      "  Panagiotopoulos. \"Self-assembly of coarse-grained ionic surfactants\n",
      "  accelerated by graphics processing units\", Journal of Computational Physics 8\n",
      "  (2012) 2385-2397\n",
      "-----\n"
     ]
    }
   ],
   "source": [
    "charged = hoomd.group.charged()\n",
    "all = hoomd.group.all()\n",
    "pppm = hoomd.md.charge.pppm(group=charged, nlist=nl)\n",
    "pppm.set_params(Nx=32, Ny=32, Nz=32, order=5, rcut=3.5)"
   ]
  },
  {
   "cell_type": "markdown",
   "metadata": {
    "hideCode": false,
    "hidePrompt": false
   },
   "source": [
    "## 4. Set up the MD simulation and the ensemble"
   ]
  },
  {
   "cell_type": "markdown",
   "metadata": {
    "hideCode": false,
    "hidePrompt": false
   },
   "source": [
    "To propagate the system forward in time, an integration mode must be set. We will used the ``mode_standard``, where at each timestep, all of the specified forces are evaluated and used in moving the system forward to the next timestep.\n",
    "This is where we also set the length of one MD timestep the integrator will use."
   ]
  },
  {
   "cell_type": "code",
   "execution_count": 13,
   "metadata": {
    "hideCode": false,
    "hidePrompt": false
   },
   "outputs": [],
   "source": [
    "hoomd.md.integrate.mode_standard(dt=0.005);"
   ]
  },
  {
   "cell_type": "markdown",
   "metadata": {
    "hideCode": false,
    "hidePrompt": false
   },
   "source": [
    "We also have to define the ensemble we will be working at: canonical ensemble (keeping the volume constant) and isobaric ensemble (keeping the pressure constant).\n",
    "This is done by setting the appropriate integrator. We'll define both first, and switch between them as necessary during the simulation. "
   ]
  },
  {
   "cell_type": "markdown",
   "metadata": {
    "hideCode": false,
    "hidePrompt": false
   },
   "source": [
    "<b>(a) ($N$,$V$,$T$) simulation using the Langevin thermostat.</b>\n",
    "    ``kT`` is the temperature of the thermostat in energy units, ``seed`` is random number seed for initialising the random forces to be applied on the atoms (use any integer you wish)."
   ]
  },
  {
   "cell_type": "markdown",
   "metadata": {},
   "source": [
    "<div class=warn> Set the the temperature value </div>"
   ]
  },
  {
   "cell_type": "code",
   "execution_count": 14,
   "metadata": {
    "hideCode": false,
    "hidePrompt": false
   },
   "outputs": [
    {
     "name": "stdout",
     "output_type": "stream",
     "text": [
      "notice(2): integrate.langevin/bd is using specified gamma values\n"
     ]
    }
   ],
   "source": [
    "nvt = hoomd.md.integrate.langevin(group=all, kT=0.8, seed=10)"
   ]
  },
  {
   "cell_type": "markdown",
   "metadata": {
    "hideCode": false,
    "hidePrompt": false
   },
   "source": [
    "<b>(b) ($N$,$P$,$T$) simulation using Martyna-Tobias-Klein equations of motion.</b> ``kT`` is the temperature of the thermostat in energy units, ``tau`` is the coupling constant of the thermostat in time units, ``P`` is the isotropic pressure in pressure units, ``tauP`` is the coupling constant of the barostat in time units. ``couple`` is the couplings of diagonal elements of the stress tensor: if it is ``none``, than all box lengths are updated independently, if it is ``xyz``, the ratios between all box lengths stay constant (the shape of the simulation cell will not change, just the volume)."
   ]
  },
  {
   "cell_type": "markdown",
   "metadata": {},
   "source": [
    "<div class=warn> Set the the temperature and pressure values </div>"
   ]
  },
  {
   "cell_type": "code",
   "execution_count": 15,
   "metadata": {
    "hideCode": false,
    "hidePrompt": false
   },
   "outputs": [],
   "source": [
    "npt = hoomd.md.integrate.npt(group=all, kT=0.8, tau=3.0, P=0.1, tauP = 3.0, couple=\"xyz\")"
   ]
  },
  {
   "cell_type": "markdown",
   "metadata": {
    "hideCode": false,
    "hidePrompt": false
   },
   "source": [
    "## 5. Set the output format\n",
    "\n",
    "What quantities should be collected, how often, and where they should be saved during the MD simulation?\n",
    "A number of quantities are calculated during a simulation, and these can be logged so we can check and analyse them later. A few example of useful quantities are below, you can choose which ones to include (or all of them). The log file is a text file, with each column corresponding to the quantities defined, in the same order. Output data is written to the file line by line at every period timestep."
   ]
  },
  {
   "cell_type": "markdown",
   "metadata": {},
   "source": [
    "<div class=warn> Define the output file name you would like to use. </div>"
   ]
  },
  {
   "cell_type": "code",
   "execution_count": 16,
   "metadata": {},
   "outputs": [],
   "source": [
    "log_filename=\"md.log\""
   ]
  },
  {
   "cell_type": "code",
   "execution_count": 17,
   "metadata": {
    "hideCode": false,
    "hidePrompt": false
   },
   "outputs": [],
   "source": [
    "quantities=['volume','lx','ly','lz','potential_energy','kinetic_energy','temperature','pressure']\n",
    "\n",
    "hoomd.analyze.log(filename=log_filename,\n",
    "                  quantities=quantities,\n",
    "                  period=50,\n",
    "                  overwrite=True) # keep appending the existing file\n",
    "\n",
    "d = hoomd.dump.dcd(\"dump.dcd\", period=50, group=all, overwrite=True, unwrap_full=False);"
   ]
  },
  {
   "cell_type": "markdown",
   "metadata": {
    "hideCode": false,
    "hidePrompt": false
   },
   "source": [
    "# 6. All is set. We are ready to go!"
   ]
  },
  {
   "cell_type": "markdown",
   "metadata": {
    "hideCode": false,
    "hidePrompt": false
   },
   "source": [
    "Now all parameters are set, you can start the actual molecular dynamics simulation, hurray!\n",
    "The initial configuration is usually very far from the equilibrium, and to lessen large initial fluctuations, it is usually a good idea to start with a short ($N$,$V$,$T$) simulation before switching to the ($N$,$P$,$T$) ensemble. \n",
    "\n",
    "Only one integrator can be set at a time, so just to be sure we'll be using the right thing, we disable the npt integrator and enable the nvt. (This might give a warning that nvt has been already enabled, that's okay.)"
   ]
  },
  {
   "cell_type": "code",
   "execution_count": 18,
   "metadata": {},
   "outputs": [
    {
     "name": "stderr",
     "output_type": "stream",
     "text": [
      "*Warning*: Ignoring command to enable an integration method that is already enabled"
     ]
    }
   ],
   "source": [
    "npt.disable()\n",
    "nvt.enable()\n",
    "# Ignore the warning..."
   ]
  },
  {
   "cell_type": "markdown",
   "metadata": {},
   "source": [
    "The following simple command performs ``2000`` MD timesteps with the parameters set so far."
   ]
  },
  {
   "cell_type": "code",
   "execution_count": 19,
   "metadata": {
    "hideCode": false,
    "hidePrompt": false,
    "scrolled": true
   },
   "outputs": [
    {
     "name": "stdout",
     "output_type": "stream",
     "text": [
      "notice(2): -- Neighborlist exclusion statistics -- :\n",
      "notice(2): Particles with 0 exclusions             : 2349\n",
      "notice(2): Neighbors included by diameter          : no\n",
      "notice(2): Neighbors excluded when in the same body: no\n",
      "** starting run **\n",
      "notice(2): charge.pppm: RMS error: 4.94505e-06\n",
      "Time 00:00:12 | Step 1000 / 2000 | TPS 99.9836 | ETA 00:00:10\n",
      "Time 00:00:21 | Step 2000 / 2000 | TPS 105.729 | ETA 00:00:00\n",
      "Average TPS: 102.76\n",
      "---------\n",
      "-- Neighborlist stats:\n",
      "190 normal updates / 20 forced updates / 0 dangerous updates\n",
      "n_neigh_min: 0 / n_neigh_max: 151 / n_neigh_avg: 66.5181\n",
      "shortest rebuild period: 3\n",
      "-- Cell list stats:\n",
      "Dimension: 4, 4, 4\n",
      "n_min    : 11 / n_max: 57 / n_avg: 36.7031\n",
      "** run complete **\n"
     ]
    }
   ],
   "source": [
    "hoomd.run(2000)"
   ]
  },
  {
   "cell_type": "markdown",
   "metadata": {
    "hideCode": false,
    "hidePrompt": false
   },
   "source": [
    "``2000`` steps should take less than one minute. If you perform the ``hoomd.run()`` command again, the simulation will continue from the last configuration available. Between ``hoomd.run()`` commands you can (and are strongly encouraged) to check the status of the simulation (e.g. how the potential energy, the volume, the temperature...etc. changes. Do they fluctuate widely or converged around a value?). "
   ]
  },
  {
   "cell_type": "markdown",
   "metadata": {
    "hideCode": false,
    "hidePrompt": false
   },
   "source": [
    "#### Let's have a quick look at what happend and visualise the trajectory  "
   ]
  },
  {
   "cell_type": "markdown",
   "metadata": {},
   "source": [
    "After the initial pre-equilibration of the system, on the ($N$,$V$,$T$) ensemble, we switch to the ($N$,$P$,$T$) ensemble to equilibrate the density of the system as well. Note, the ($N$,$P$,$T$) simulation is a bit slower, especially if the volume decreases (larger density means more neighbouring atoms, thus more pair-energies to compute!)"
   ]
  },
  {
   "cell_type": "code",
   "execution_count": 20,
   "metadata": {},
   "outputs": [],
   "source": [
    "nvt.disable()\n",
    "npt.enable()"
   ]
  },
  {
   "cell_type": "code",
   "execution_count": 21,
   "metadata": {},
   "outputs": [
    {
     "name": "stdout",
     "output_type": "stream",
     "text": [
      "** starting run **\n",
      "Time 00:00:31 | Step 2637 / 12000 | TPS 63.5632 | ETA 00:02:27\n",
      "Time 00:00:41 | Step 3164 / 12000 | TPS 52.2783 | ETA 00:02:49\n",
      "Time 00:00:51 | Step 3667 / 12000 | TPS 50.2856 | ETA 00:02:45\n",
      "Time 00:01:01 | Step 4186 / 12000 | TPS 51.6018 | ETA 00:02:31\n",
      "Time 00:01:11 | Step 4704 / 12000 | TPS 51.7346 | ETA 00:02:21\n",
      "Time 00:01:21 | Step 5233 / 12000 | TPS 52.8917 | ETA 00:02:07\n",
      "Time 00:01:32 | Step 5758 / 12000 | TPS 52.3022 | ETA 00:01:59\n",
      "Time 00:01:42 | Step 6295 / 12000 | TPS 53.6914 | ETA 00:01:46\n",
      "Time 00:01:52 | Step 6832 / 12000 | TPS 53.6799 | ETA 00:01:36\n",
      "Time 00:02:02 | Step 7383 / 12000 | TPS 55.0321 | ETA 00:01:23\n",
      "Time 00:02:12 | Step 7924 / 12000 | TPS 54.0975 | ETA 00:01:15\n",
      "Time 00:02:22 | Step 8458 / 12000 | TPS 53.1146 | ETA 00:01:06\n",
      "Time 00:02:32 | Step 8986 / 12000 | TPS 52.7993 | ETA 00:00:57\n",
      "Time 00:02:42 | Step 9503 / 12000 | TPS 51.6937 | ETA 00:00:48\n",
      "Time 00:02:52 | Step 10024 / 12000 | TPS 51.9253 | ETA 00:00:38\n",
      "Time 00:03:02 | Step 10536 / 12000 | TPS 50.9153 | ETA 00:00:28\n",
      "Time 00:03:12 | Step 11059 / 12000 | TPS 52.0521 | ETA 00:00:18\n",
      "Time 00:03:22 | Step 11580 / 12000 | TPS 52.0968 | ETA 00:00:08\n",
      "Time 00:03:30 | Step 12000 / 12000 | TPS 52.571 | ETA 00:00:00\n",
      "Average TPS: 53.0741\n",
      "---------\n",
      "-- Neighborlist stats:\n",
      "850 normal updates / 100 forced updates / 0 dangerous updates\n",
      "n_neigh_min: 0 / n_neigh_max: 173 / n_neigh_avg: 83.3755\n",
      "shortest rebuild period: 8\n",
      "-- Cell list stats:\n",
      "Dimension: 3, 3, 3\n",
      "n_min    : 71 / n_max: 95 / n_avg: 87\n",
      "** run complete **\n"
     ]
    }
   ],
   "source": [
    "hoomd.run(10000)"
   ]
  },
  {
   "cell_type": "code",
   "execution_count": 22,
   "metadata": {
    "hideCode": false,
    "hidePrompt": false,
    "scrolled": true
   },
   "outputs": [
    {
     "data": {
      "application/vnd.jupyter.widget-view+json": {
       "model_id": "f4fe7ff72f684db8a6b265dbbc1897b7",
       "version_major": 2,
       "version_minor": 0
      },
      "text/plain": [
       "NGLWidget(max_frame=239)"
      ]
     },
     "metadata": {},
     "output_type": "display_data"
    }
   ],
   "source": [
    "# Visualise the entire trajectory (NVT + NPT!)\n",
    "# If you want to split the two runs you will have to modify the output files above\n",
    "# As at the moment we are \"appending\" our results in terms of observables (temperature, pressure...) \n",
    "# and trajectories to md.log and dump.dcd, rsepctively\n",
    "\n",
    "# Load the trajectory and the topology\n",
    "p_traj = pt.load('dump.dcd', top='system.pdb')\n",
    "\n",
    "# Show...\n",
    "# NOTE: if you are running the entire Notebook from top to bottom in one go \n",
    "# by e.g. \"Kernel -> Restart & Run all\" you'll have to wait for the kernel to\n",
    "# execute ALL cells before the visualisation shows up!\n",
    "p_view = nv.show_pytraj(p_traj)\n",
    "p_view"
   ]
  },
  {
   "cell_type": "markdown",
   "metadata": {
    "hideCode": false,
    "hidePrompt": false
   },
   "source": [
    "#### The visualisation is informative, but we need some more solid data to see whether the simulation is converged"
   ]
  },
  {
   "cell_type": "markdown",
   "metadata": {
    "hideCode": false,
    "hidePrompt": false
   },
   "source": [
    "Saved quantities can be read from the produced logfile, and plotted as required. Keep in mind that the order of the quantities is what you have defined at the point of creating the log, (the zeroth column is always the timstep)."
   ]
  },
  {
   "cell_type": "markdown",
   "metadata": {},
   "source": [
    "<div class=warn> Create two graphs to check the evolution of the (a) volume of the simulation box and (b) the potential energy of the system.</div>"
   ]
  },
  {
   "cell_type": "code",
   "execution_count": 23,
   "metadata": {
    "hideCode": false,
    "hidePrompt": false
   },
   "outputs": [],
   "source": [
    "data = np.genfromtxt(fname=log_filename, skip_header=True)\n",
    "# Remember:\n",
    "# quantities=['volume','lx','ly','lz','potential_energy','kinetic_energy','temperature','pressure']"
   ]
  },
  {
   "cell_type": "code",
   "execution_count": 24,
   "metadata": {
    "hideCode": false,
    "hidePrompt": false,
    "scrolled": false
   },
   "outputs": [
    {
     "data": {
      "text/plain": [
       "Text(0, 0.5, 'Volume')"
      ]
     },
     "execution_count": 24,
     "metadata": {},
     "output_type": "execute_result"
    },
    {
     "data": {
      "image/png": "[encoded data removed]",
      "text/plain": [
       "<Figure size 800x400 with 1 Axes>"
      ]
     },
     "metadata": {
      "needs_background": "light"
     },
     "output_type": "display_data"
    }
   ],
   "source": [
    "pyplot.figure(figsize=(8,4), dpi=100)\n",
    "pyplot.plot(data[:,1])\n",
    "pyplot.xlabel('time')\n",
    "pyplot.ylabel('Volume')"
   ]
  },
  {
   "cell_type": "markdown",
   "metadata": {},
   "source": [
    "How can you decide whether your run is equilibrated and is ready to start collecting data?  "
   ]
  },
  {
   "cell_type": "markdown",
   "metadata": {},
   "source": [
    "<div class=warn>If you still see a systematic change in the volume or the energy, thus not yet reached the phase where these quantities fluctuate around an average value, you need to continue the simulation a bit longer! Execute the command ```hoomd.run(10000)``` again until you're satisfied the system reached equilibrium.</div>"
   ]
  },
  {
   "cell_type": "markdown",
   "metadata": {
    "hideCode": false,
    "hidePrompt": false
   },
   "source": [
    "# 7. Compute the solvation shells"
   ]
  },
  {
   "cell_type": "markdown",
   "metadata": {},
   "source": [
    "Whether you would opt for the \"direct\" method or the pair correlation function-based approach (see the \"M15_Experimental_Protocol.pdf\" document on Moodle), you need to compute the ions-solvent particles pair correlation function(S) in order to identify the cutoff radius."
   ]
  },
  {
   "cell_type": "markdown",
   "metadata": {},
   "source": [
    "<div class=warn>\n",
    "    \n",
    "* Compute p_cs and p_as. Plot the results on the same graph and identify the cutoff radii for the solvation shell of cations and anions.\n",
    "    \n",
    "</div>"
   ]
  },
  {
   "cell_type": "markdown",
   "metadata": {},
   "source": [
    "### Calculating the pair correlation functions\n",
    "\n",
    "You can calculate the pair correlation functions ***relative to a particular frame only*** using the function \"py_rdf\" defined below. This function takes in input the following arguments: \n",
    "\n",
    "* **r**   = a numpy array containing the positions of all the particles\n",
    "* **S**   = the length of the box (which is assumed to be square/cubic in 2/3D !!)\n",
    "* **dr**  = the resolution in r. The smaller this value, the greater the resolution\n",
    "* **dim** = the dimensionality of the system (2 or 3 D)"
   ]
  },
  {
   "cell_type": "code",
   "execution_count": 25,
   "metadata": {},
   "outputs": [],
   "source": [
    "# Load the trajectory into the \"traj\" object:\n",
    "traj = pt.load('dump.dcd', top='system.pdb')\n",
    "\n",
    "# Access the positions of all the particles within the first frame (index = 0)\n",
    "\n",
    "# Select the first frame [0] from the trajectory object p_traj\n",
    "rr = traj[0]\n",
    "\n",
    "# .xyz prints out the positions, which we store in the numpy array r [in units of solvent's LJ sigma (=1.0)] \n",
    "r = np.array(rr.xyz)\n",
    "\n",
    "\n",
    "# Access the length of the box \n",
    "# Note that for a NPT simulation the box will change in time, hence we need to select the box for each frame\n",
    "\n",
    "# .box.z prints the magnitude of the cell vector aligned with the z axis. \n",
    "# As we are using a cubic simulation box (identified via three cell vectors of equal length aligned\n",
    "# along the x, y and axis), you - could - also use .box.y and .box.x\n",
    "# NOTE: do - not - use .box.x, though (bug!)\n",
    "# We store this number in the variable S, which represents the length of the box [in units of solvent's LJ sigma (=1.0)] \n",
    "S = rr.box.z"
   ]
  },
  {
   "cell_type": "code",
   "execution_count": 26,
   "metadata": {},
   "outputs": [],
   "source": [
    "def py_rdf(r, S, dr, dim):\n",
    "    from numpy import zeros, sqrt, where, pi, mean, arange, histogram, absolute\n",
    "    num_particles  = len(r)\n",
    "    rMax           = S/2.0;\n",
    "    edges          = arange(0., rMax + dr, dr)\n",
    "    num_increments = len(edges) - 1\n",
    "    g              = zeros(num_increments)\n",
    "    radii          = zeros(num_increments)\n",
    "    numberDensity  = len(r) / S**dim\n",
    "\n",
    "    # Compute pairwise correlation for each particle\n",
    "    \n",
    "    for index in range(num_particles): # Loop over all the particles\n",
    "\n",
    "        d = 0.0\n",
    "        for i in range(dim):\n",
    "            \n",
    "            # Set of distances (components x, y and z as indicated by the index \"i\")\n",
    "            # between the particle specified by the index \"index\" and all the other particles (note the \":\")\n",
    "            dp = absolute(r[index,i] - r[:,i]) \n",
    "            \n",
    "            # Condition: a distance component is longer than half of the box\n",
    "            # If it is, we need to account for the PBC\n",
    "            mask = dp>S/2.0\n",
    "            \n",
    "            # If the condition above is verified, scale the distance to the actual PBC-corrected distance\n",
    "            dp[mask] = S - dp[mask]\n",
    "            \n",
    "            # Calculate the distance (squared) from the distance components\n",
    "            # That is, d = dp_x**2 + dp_y**2 + dp_z**2\n",
    "            d += dp*dp\n",
    "\n",
    "        # Distance    \n",
    "        d = sqrt(d)\n",
    "        \n",
    "        # The distance between the particle specified by the index \"index\" and itself - that is, the box length!\n",
    "        d[index] = 2 * rMax\n",
    "\n",
    "        # Build a histogram of all the distances we have computed\n",
    "        (result, bins) = histogram(d, bins=edges, density=False)\n",
    "        \n",
    "        # Sum the histogram for each particle\n",
    "        g += result\n",
    "\n",
    "    # Normalize the histogram\n",
    "    g = g/(num_particles * numberDensity)\n",
    "\n",
    "    # Normalize the g(r) dividing by the g(r) of an ideal gas - in 2D!\n",
    "    if dim == 2:\n",
    "        for i in range(num_increments):\n",
    "            radii[i] = (edges[i] + edges[i+1]) / 2.\n",
    "            rOuter = edges[i + 1]\n",
    "            rInner = edges[i]\n",
    "            g[i] = g[i] / (2.0 * pi * (rOuter-rInner)* radii[i])\n",
    "\n",
    "    # Normalize the g(r) dividing by the g(r) of an ideal gas - in 3D\n",
    "    if dim == 3:\n",
    "        for i in range(num_increments):\n",
    "            radii[i] = (edges[i] + edges[i+1]) / 2.\n",
    "            rOuter = edges[i + 1]\n",
    "            rInner = edges[i]\n",
    "            g[i] = g[i] / (4.0 * pi * (rOuter-rInner)* radii[i] * radii[i])\n",
    "\n",
    "    return (radii, g)"
   ]
  },
  {
   "cell_type": "code",
   "execution_count": 27,
   "metadata": {},
   "outputs": [],
   "source": [
    "dr=0.1\n",
    "\n",
    "# Compute the g(r). dist contains the distances (x-axis), pcf_all contains the g(r)\n",
    "dist, pcf_all = py_rdf(r,S,dr,3)"
   ]
  },
  {
   "cell_type": "markdown",
   "metadata": {},
   "source": [
    "### Cross correlations\n",
    "What we have computed above is the g(r) for ***all*** the particles in the system. In order to compute the solvation shell of, for instance, the cations, we need to compute the cations-solvent pair correlation function. Solvent particles have been labeled as \"S\", while cations have been labeled as \"C\". One way to proceed is to build two different numpy arrays containing the positions of S and C only. At that point, we can modify the ```py_rdf``` function so as to compute the distances between S and C particles only. The one thing left to modify would be the normalization factor. In the previous case (i.e. the g(r) of the entire system) we have divided the histogram of the distance by the number of particles times the density of the system. In here, we will have to divide by the number of C particles times the density of system for the S particles only."
   ]
  },
  {
   "cell_type": "code",
   "execution_count": 28,
   "metadata": {},
   "outputs": [],
   "source": [
    "# Load the trajectory into the \"traj\" object - AGAIN\n",
    "# In principle this is not needed - however, failing to re-load will kill the kernel\n",
    "# if one runs the entire Notebook from top to bottom...\n",
    "traj = pt.load('dump.dcd', top='system.pdb')\n",
    "\n",
    "# Access the positions of the C particles only within frame 0\n",
    "rr_C = traj['@C',0]\n",
    "r_C = np.array(rr_C.xyz)\n",
    "\n",
    "# Access the positions of the S particles only within frame 0\n",
    "rr_S = traj['@S',0]\n",
    "r_S = np.array(rr_S.xyz)"
   ]
  },
  {
   "cell_type": "markdown",
   "metadata": {},
   "source": [
    "<div class=warn>\n",
    "    \n",
    "* Modify the function below so as to compute a generic pair correlation function between A and B particles. The sections of the code for you to modify are tagged as \"MODIFY\"\n",
    "    \n",
    "</div>"
   ]
  },
  {
   "cell_type": "code",
   "execution_count": 29,
   "metadata": {},
   "outputs": [],
   "source": [
    "# Modified py_rdf function that computes the pair correlation function for two groups of particles\n",
    "# We need as input two arrays of positions for particles A and B\n",
    "\n",
    "def py_rdf_AB(r_A, r_B, S, dr, dim):\n",
    "    from numpy import zeros, sqrt, where, pi, mean, arange, histogram, absolute\n",
    "    num_particles_A  = len(r_A)\n",
    "    num_particles_B  = len(r_B)\n",
    "    rMax           = S/2.0;\n",
    "    edges          = arange(0., rMax + dr, dr)\n",
    "    num_increments = len(edges) - 1\n",
    "    g              = zeros(num_increments)\n",
    "    radii          = zeros(num_increments)\n",
    "    numberDensity_A  = len(r_A) / S**dim\n",
    "    numberDensity_B  = len(r_B) / S**dim\n",
    "\n",
    "    # Compute pairwise correlation\n",
    "    \n",
    "    # Loop over particles A\n",
    "    for index in range(MODIFY):\n",
    "\n",
    "        d = 0.0\n",
    "        for i in range(dim):\n",
    "            \n",
    "            # (Components of the) distances between each particle A and all the particles B\n",
    "            dp = absolute(MODIFY[index,i] - MODIFY[:,i])\n",
    "            mask = dp>S/2.0\n",
    "            dp[mask] = S - dp[mask]\n",
    "            d += dp*dp\n",
    "\n",
    "        d = sqrt(d) # array containing the num_particles distances from particle index to all other particles\n",
    "        d[index] = 2 * rMax\n",
    "\n",
    "        (result, bins) = histogram(d, bins=edges, density=False)\n",
    "        g += result\n",
    "\n",
    "    # Normalise by the number of B particles and the number density for A particles only    \n",
    "    g = g/(MODIFY * MODIFY)\n",
    "\n",
    "    # Normalize the g(r) dividing by the g(r) of an ideal gas - in 2D!\n",
    "    if dim == 2:\n",
    "        for i in range(num_increments):\n",
    "            radii[i] = (edges[i] + edges[i+1]) / 2.\n",
    "            rOuter = edges[i + 1]\n",
    "            rInner = edges[i]\n",
    "            g[i] = g[i] / (2.0 * pi * (rOuter-rInner)* radii[i])\n",
    "\n",
    "    # Normalize the g(r) dividing by the g(r) of an ideal gas - in 3D\n",
    "    if dim == 3:\n",
    "        for i in range(num_increments):\n",
    "            radii[i] = (edges[i] + edges[i+1]) / 2.\n",
    "            rOuter = edges[i + 1]\n",
    "            rInner = edges[i]\n",
    "            g[i] = g[i] / (4.0 * pi * (rOuter-rInner)* radii[i] * radii[i])\n",
    "\n",
    "    return (radii, g)"
   ]
  },
  {
   "cell_type": "markdown",
   "metadata": {},
   "source": [
    "<div class=warn>\n",
    "    \n",
    "* Calculate the extent of the solvation shell for cations and anions. Feel free to get what you need from the \"CW_1_Key.ipnyb\" Notebook we have used for CH273.\n",
    "    \n",
    "</div>"
   ]
  },
  {
   "cell_type": "markdown",
   "metadata": {},
   "source": [
    "<div class=warn>\n",
    "    \n",
    "* Investigate the changes in the solvation shells observed upon the modification of the size of the cations and/or anions.\n",
    "    \n",
    "</div>"
   ]
  },
  {
   "cell_type": "code",
   "execution_count": 30,
   "metadata": {},
   "outputs": [],
   "source": [
    "# # Potentially useful pytraj commands...\n",
    "\n",
    "# # List all the atom types in the system\n",
    "# print(set(atom.name for atom in traj.top.atoms))\n",
    "\n",
    "# # Print the atom names in the same order specified within the topology and trajectory\n",
    "# for i in traj.top.atoms:\n",
    "#     print(i.name)\n",
    "\n",
    "# Print the numbe of frames within the trajectory\n",
    "# print(len(traj))"
   ]
  },
  {
   "cell_type": "code",
   "execution_count": null,
   "metadata": {},
   "outputs": [],
   "source": []
  }
 ],
 "metadata": {
  "hide_code_all_hidden": false,
  "kernelspec": {
   "display_name": "Python 3",
   "language": "python",
   "name": "python3"
  },
  "language_info": {
   "codemirror_mode": {
    "name": "ipython",
    "version": 3
   },
   "file_extension": ".py",
   "mimetype": "text/x-python",
   "name": "python",
   "nbconvert_exporter": "python",
   "pygments_lexer": "ipython3",
   "version": "3.7.4"
  }
 },
 "nbformat": 4,
 "nbformat_minor": 4
}
