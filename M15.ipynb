{
 "cells": [
  {
   "cell_type": "code",
   "execution_count": 1,
   "metadata": {},
   "outputs": [
    {
     "data": {
      "text/html": [
       "<script>\n",
       "code_show=true; \n",
       "function code_toggle() {\n",
       "    if (code_show){\n",
       "        $('div.cell.code_cell.rendered.selected div.input').hide();\n",
       "    } else {\n",
       "        $('div.cell.code_cell.rendered.selected div.input').show();\n",
       "    }\n",
       "    code_show = !code_show\n",
       "} \n",
       "$( document ).ready(code_toggle);\n",
       "</script>\n",
       "Some hidden code... to show/hide this cell's raw code input, click (or double click if stubborn!) <a href=\"javascript:code_toggle()\">here</a>."
      ],
      "text/plain": [
       "<IPython.core.display.HTML object>"
      ]
     },
     "metadata": {},
     "output_type": "display_data"
    },
    {
     "data": {
      "text/html": [
       "<style>\n",
       "div.warn {    \n",
       "    background-color: #b3b3ff;\n",
       "    border-color: #0000b3;\n",
       "    border-left: 5px solid #0000b3;\n",
       "    padding: 0.5em;\n",
       "    }\n",
       " </style>\n"
      ],
      "text/plain": [
       "<IPython.core.display.HTML object>"
      ]
     },
     "execution_count": 1,
     "metadata": {},
     "output_type": "execute_result"
    }
   ],
   "source": [
    "from IPython.display import HTML\n",
    "from IPython.display import display\n",
    "\n",
    "# Taken from https://stackoverflow.com/questions/31517194/how-to-hide-one-specific-cell-input-or-output-in-ipython-notebook\n",
    "tag = HTML('''<script>\n",
    "code_show=true; \n",
    "function code_toggle() {\n",
    "    if (code_show){\n",
    "        $('div.cell.code_cell.rendered.selected div.input').hide();\n",
    "    } else {\n",
    "        $('div.cell.code_cell.rendered.selected div.input').show();\n",
    "    }\n",
    "    code_show = !code_show\n",
    "} \n",
    "$( document ).ready(code_toggle);\n",
    "</script>\n",
    "Some hidden code... to show/hide this cell's raw code input, click (or double click if stubborn!) <a href=\"javascript:code_toggle()\">here</a>.''')\n",
    "display(tag)\n",
    "\n",
    "############### Write code below ##################\n",
    "from IPython.core.display import HTML\n",
    "def css_styling():\n",
    "    styles = open(\"./STUFF/colors.css\", \"r\").read()\n",
    "    return HTML(styles)\n",
    "css_styling()"
   ]
  },
  {
   "cell_type": "markdown",
   "metadata": {
    "hideCode": false,
    "hidePrompt": false
   },
   "source": [
    "# CH222"
   ]
  },
  {
   "cell_type": "markdown",
   "metadata": {
    "hideCode": false,
    "hidePrompt": false
   },
   "source": [
    "# Studying the solvation shell of ions via Molecular Dynamics Simulations"
   ]
  },
  {
   "cell_type": "markdown",
   "metadata": {
    "hideCode": false,
    "hidePrompt": false
   },
   "source": [
    "In this computational experiment you will use **molecular dynamics simulations** to investigate the solvation shell of ions at the atomistic level. For this computer experiment the ions and the solvent particles will be represented by relatively simple models (more on that later), and you will examine how the size of the cation and the temperature effect the structure of the solvation shell.\n",
    "\n",
    "You will use the Python-based Jupyter Notebook framework, leveraging Statistical Mechanics to compute structural features of this system.\n",
    "\n",
    "This notebook outlines how to set up the MD simulation using the HOOMD-blue simulation package, and some tips on using the Atomic Simulation Environment (ASE) for handling atomic configurations.\n",
    "\n",
    "You can find further help, features and options on the Manual pages:  \n",
    "[HOOMD-blue page](https://hoomd-blue.readthedocs.io/en/stable/index.html)  \n",
    "[ASE page](https://wiki.fysik.dtu.dk/ase/index.html)"
   ]
  },
  {
   "cell_type": "markdown",
   "metadata": {},
   "source": [
    "<div class=warn>\n",
    "Tasks, where you need to edit the code cells will be shown in similar \"blue boxes\".\n",
    "<div/>"
   ]
  },
  {
   "cell_type": "markdown",
   "metadata": {
    "hideCode": false,
    "hidePrompt": false
   },
   "source": [
    "**IMPORTANT!!!** Use **Google Chrome** to work on the notebook instead of using Microsoft Explorer. The latter handles the visualisation package incorrectly."
   ]
  },
  {
   "cell_type": "markdown",
   "metadata": {
    "hideCode": false,
    "hidePrompt": false
   },
   "source": [
    "## Content of this notebook\n",
    "\n",
    "#### Setting up the simulation\n",
    "\n",
    "1. Import necessary libraries and initialise HOOMD\n",
    "2. Set up the system - initial structure, number of atoms\n",
    "3. Define interaction between particles - binary Lennard-Jones\n",
    "4. Set up the MD simulation and the ensemble - set the integrator, temperature, pressure\n",
    "5. Set the output format - output file and logged quantities\n",
    "\n",
    "#### Performing the simulation\n",
    "\n",
    "6. Perform the simulation - hoomd.run()\n",
    "\n",
    "   Saving the atomic coordinates and visualising the system \n",
    "\n",
    "#### Analysing the results\n",
    "\n",
    "7. Analysing results"
   ]
  },
  {
   "cell_type": "markdown",
   "metadata": {
    "hideCode": false,
    "hidePrompt": false
   },
   "source": [
    "## 1. Import necessary libraries and initialise HOOMD"
   ]
  },
  {
   "cell_type": "markdown",
   "metadata": {
    "hideCode": false,
    "hidePrompt": false
   },
   "source": [
    "Import the hoomd python package and the md component we will use to perform MD simulations."
   ]
  },
  {
   "cell_type": "code",
   "execution_count": 2,
   "metadata": {
    "hideCode": false,
    "hidePrompt": false
   },
   "outputs": [],
   "source": [
    "import hoomd\n",
    "import hoomd.md\n",
    "from scipy.interpolate import interp1d\n",
    "import matplotlib.pyplot as plt"
   ]
  },
  {
   "cell_type": "markdown",
   "metadata": {
    "hideCode": false,
    "hidePrompt": false
   },
   "source": [
    "We need to initialize the execution context to control where HOOMD will execute the simulation. We will run the simulations on the CPU (HOOMD also allows options for GPU, but we won't use them)."
   ]
  },
  {
   "cell_type": "code",
   "execution_count": 3,
   "metadata": {
    "hideCode": false,
    "hidePrompt": false,
    "scrolled": true
   },
   "outputs": [
    {
     "name": "stdout",
     "output_type": "stream",
     "text": [
      "HOOMD-blue 2.9.3 DOUBLE HPMC_MIXED TBB SSE SSE2 SSE3 \n",
      "Compiled: 12/16/2020\n",
      "Copyright (c) 2009-2019 The Regents of the University of Michigan.\n",
      "-----\n",
      "You are using HOOMD-blue. Please cite the following:\n",
      "* J A Anderson, J Glaser, and S C Glotzer. \"HOOMD-blue: A Python package for\n",
      "  high-performance molecular dynamics and hard particle Monte Carlo\n",
      "  simulations\", Computational Materials Science 173 (2020) 109363\n",
      "-----\n",
      "HOOMD-blue is running on the CPU\n"
     ]
    }
   ],
   "source": [
    "hoomd.context.initialize('--mode=cpu');"
   ]
  },
  {
   "cell_type": "markdown",
   "metadata": {
    "hideCode": false,
    "hidePrompt": false
   },
   "source": [
    "Import some further python packages we will need for analysing and visualising simulations results."
   ]
  },
  {
   "cell_type": "code",
   "execution_count": 4,
   "metadata": {
    "hideCode": false,
    "hidePrompt": false
   },
   "outputs": [
    {
     "data": {
      "application/vnd.jupyter.widget-view+json": {
       "model_id": "990282225fe54c4f8488500e641e6334",
       "version_major": 2,
       "version_minor": 0
      },
      "text/plain": []
     },
     "metadata": {},
     "output_type": "display_data"
    }
   ],
   "source": [
    "import numpy as np\n",
    "from matplotlib import pyplot \n",
    "import ase # Atomic simulation environment\n",
    "import ase.io\n",
    "from ase.visualize import view\n",
    "#packages necessary to visualise the trajectories\n",
    "import pytraj as pt \n",
    "import nglview as nv"
   ]
  },
  {
   "cell_type": "markdown",
   "metadata": {
    "hideCode": false,
    "hidePrompt": false
   },
   "source": [
    "## 2. Create initial configuration"
   ]
  },
  {
   "cell_type": "markdown",
   "metadata": {
    "hideCode": false,
    "hidePrompt": false
   },
   "source": [
    "First we need to create the **inital configuration** for the simulation to start from: \n",
    "\n",
    "- size of the simulation box\n",
    "- number of atoms in the system\n",
    "- position of the atoms (coordinates)\n",
    "\n",
    "We define our simulation system as the following: we create an initial smaller cell, than we will replicate this cell in each Cartesian direction (3 times) to create our actual simulation box.\n",
    "\n",
    "The initial small cell is cubic, with box length 5.5 One ion pair is placed within this, with 85 solvent particles. Their coordinates are randomly generated with the condition they are not closer to 1.0 to avoid atomic overlaps. \n",
    "(Note: You can define the system only once, thus you can execute the code cell below only once. If you want to experiment with different setups, you need to restart the kernel or initialize the hoomd.context again!)"
   ]
  },
  {
   "cell_type": "markdown",
   "metadata": {},
   "source": [
    "<div class=warn>\n",
    "Set the box length and the number of solvents below: </div>"
   ]
  },
  {
   "cell_type": "code",
   "execution_count": 5,
   "metadata": {},
   "outputs": [],
   "source": [
    "boxL=5.5\n",
    "N_solvent=85"
   ]
  },
  {
   "cell_type": "markdown",
   "metadata": {},
   "source": [
    "It might take a couple of seconds to create the box (find positions with no particles overlapping)."
   ]
  },
  {
   "cell_type": "code",
   "execution_count": 6,
   "metadata": {
    "hideCode": false,
    "hidePrompt": false
   },
   "outputs": [
    {
     "name": "stdout",
     "output_type": "stream",
     "text": [
      "notice(2): Group \"all\" created containing 2349 particles\n"
     ]
    }
   ],
   "source": [
    "position=[]\n",
    "type_name=[]\n",
    "charge=[]\n",
    "mass=[]\n",
    "\n",
    "#Add one cation\n",
    "position.append([0.0, 0.0, 0.0])\n",
    "type_name.append('Cation')\n",
    "charge.append(1.0)\n",
    "mass.append(1.0)\n",
    "    \n",
    "#Add one anion    \n",
    "position.append([3.0, 3.0, 3.0])\n",
    "type_name.append('Anion')\n",
    "charge.append(-1.0)\n",
    "mass.append(1.0)\n",
    "\n",
    "#Add solvent particles\n",
    "for i in range(N_solvent):\n",
    "    generate_new=True \n",
    "    while generate_new: \n",
    "        trial=np.random.rand(3)*(boxL-1.0)\n",
    "        generate_new=False\n",
    "        for j in range(i+2):\n",
    "            if (np.linalg.norm(position[j]-trial)<1.0):\n",
    "                generate_new=True\n",
    "    position.append(trial)\n",
    "    type_name.append('Solvent')\n",
    "    charge.append(0.0)\n",
    "    mass.append(1.0)\n",
    "    \n",
    "#Create the initial cell    \n",
    "initial_cell = hoomd.lattice.unitcell(N = N_solvent+2, # number of atoms in the initial cell\n",
    "                a1 = [boxL,0,0],\n",
    "                a2 = [0,boxL,0],\n",
    "                a3 = [0,0,boxL], # these define a cubic box of length boxL \n",
    "                position = position, # set positions for the two atoms (they should not be placed on top of each other)\n",
    "                type_name = type_name,\n",
    "                charge = charge,\n",
    "                mass = mass,  \n",
    "                            );\n",
    "\n",
    "#Using the initial cell as a building block, create a larger cell. This one will be used for the simulation.\n",
    "system=hoomd.init.create_lattice(initial_cell,n=3) "
   ]
  },
  {
   "cell_type": "markdown",
   "metadata": {
    "hideCode": false,
    "hidePrompt": false
   },
   "source": [
    "####  Now it's time to have a look at our system - It's always a good idea to see what we have created! \n",
    "\n",
    "In order to visualise the molecular dynaimcs trajectories, we will use the ```py_traj``` package. To do so, we need a \"topology file\" (a single configuration of the system containing information about which and how many atoms we have, the simulation box, etc...) and a \"trajectory file\", which contains information about the time evolution of the system. \n",
    "\n",
    "HOOMD writes the trajectory file as a binary .dcd file. In order to write the topology file, we will make use of the Atomic Simulation Environment (ASE) instead. The short ``save_config`` function below extracts the simulation box parameters and the atomic coordinates from the hoomd ``system`` we have defined, and creates an atoms object from it. \n",
    "\n",
    "**Note:** ASE expects real atomic symbols as atom types, thus e.g. ``Solvent`` will not work. Hence, we will call our particle types S (solvent), C (Cation) and Ar (Anion), this will only effect the visualisation and how you refer to the atoms during the analysis code. "
   ]
  },
  {
   "cell_type": "code",
   "execution_count": 7,
   "metadata": {
    "hideCode": false,
    "hidePrompt": false
   },
   "outputs": [],
   "source": [
    "def save_config(hoomd_system,atom_types=[\"C\",\"Ar\",\"S\"]):\n",
    "    \n",
    "    lattice=np.array([hoomd_system.box.get_lattice_vector(i=i) for i in range(3)])\n",
    "    x2 = int(lattice[[0],[0]]) / 2\n",
    "    y2 = int(lattice[[1],[1]]) / 2\n",
    "    z2 = int(lattice[[2],[2]]) / 2\n",
    "\n",
    "    ase_atoms=ase.Atoms(pbc=[(True,True,True)],cell=lattice)\n",
    "    \n",
    "    for i in range(system.particles.types.pdata.getN()):\n",
    "        i_type = system.particles.types.pdata.getType(i)\n",
    "        i_pos = hoomd_system.particles.pdata.getPosition(i)\n",
    "        i_pos.x = i_pos.x + x2 ; i_pos.y = i_pos.y + y2 ; i_pos.z = i_pos.z + z2\n",
    "        ase_atoms.append(ase.Atom(atom_types[i_type],position=[i_pos.x,i_pos.y,i_pos.z]))\n",
    "    return ase_atoms"
   ]
  },
  {
   "cell_type": "code",
   "execution_count": 8,
   "metadata": {
    "hideCode": false,
    "hidePrompt": false
   },
   "outputs": [
    {
     "data": {
      "application/vnd.jupyter.widget-view+json": {
       "model_id": "3ca00fb22eaf4d33813e0145e3e98696",
       "version_major": 2,
       "version_minor": 0
      },
      "text/plain": [
       "NGLWidget()"
      ]
     },
     "metadata": {},
     "output_type": "display_data"
    }
   ],
   "source": [
    "# Visualise the starting configuration\n",
    "current_config = save_config(system)\n",
    "\n",
    "# Writes a topology file in .pdb format via ASE \n",
    "ase.io.write(\"system.pdb\", current_config)\n",
    "\n",
    "# Use the py_traj package to load the topology file (we don't have trajectory file as we have not run any MD yet!)\n",
    "conf_ini = pt.load('system.pdb')\n",
    "\n",
    "# Show...\n",
    "# NOTE: if you are running the entire Notebook from top to bottom in one go \n",
    "# by e.g. \"Kernel -> Restart & Run all\" you'll have to wait for the kernel to\n",
    "# execute ALL cells before the visualisation shows up!\n",
    "p_view = nv.show_pytraj(conf_ini)\n",
    "p_view.add_unitcell()\n",
    "p_view"
   ]
  },
  {
   "cell_type": "markdown",
   "metadata": {
    "hideCode": false,
    "hidePrompt": false
   },
   "source": [
    "## 3. Define the interaction between particles\n",
    "\n",
    "A key part of any materials modelling calculation is how we describe the intercation between particles. In this section we define the parameters for that. "
   ]
  },
  {
   "cell_type": "code",
   "execution_count": 9,
   "metadata": {
    "hideCode": false,
    "hidePrompt": false
   },
   "outputs": [],
   "source": [
    "nl = hoomd.md.nlist.cell() # neighbour list to keep track of the atomic distances - this makes the calculation more efficient"
   ]
  },
  {
   "cell_type": "markdown",
   "metadata": {
    "hideCode": false,
    "hidePrompt": false
   },
   "source": [
    "The next step is to initialise the Lennard-Jones potential, and set the cutoff distance, ``r_cut``. If two atoms are further away from each other than this distance, their pair energy contribution will be zero (the further they are, the weaker the interaction, thus it is a reasonable approximation in most cases). "
   ]
  },
  {
   "cell_type": "code",
   "execution_count": 10,
   "metadata": {
    "hideCode": false,
    "hidePrompt": false
   },
   "outputs": [],
   "source": [
    "lj = hoomd.md.pair.lj(r_cut=3.5, nlist=nl) # define potential"
   ]
  },
  {
   "cell_type": "markdown",
   "metadata": {
    "hideCode": false,
    "hidePrompt": false
   },
   "source": [
    "We will use the Lennard-Jones potential to describe the van der Waals interaction between the particles. We need to set two parameters, $\\sigma$ (which determins the distance) and $\\epsilon$ (which determins the strength of the interaction), for all combinations of pair types. These parameters also determine the energy and distance scale of the simulation (reminder: temperature is in $kT/\\epsilon$ units, and pressure is in $P\\sigma^3/\\epsilon$ units)."
   ]
  },
  {
   "cell_type": "markdown",
   "metadata": {},
   "source": [
    "<div class=warn> Calculate the Lennard-Jones parameters for the mixed-type interactions using the Lorentz-Berthelot rule, and set the LJ parameters below: </div>"
   ]
  },
  {
   "cell_type": "code",
   "execution_count": 11,
   "metadata": {
    "hideCode": false,
    "hidePrompt": false
   },
   "outputs": [],
   "source": [
    "lj.pair_coeff.set('Solvent', 'Solvent', epsilon=1.0, sigma=1.0)\n",
    "lj.pair_coeff.set('Solvent', 'Anion',  epsilon=1.0, sigma=1.0)\n",
    "lj.pair_coeff.set('Solvent', 'Cation', epsilon=1.0, sigma=1.5)\n",
    "lj.pair_coeff.set('Anion', 'Cation', epsilon=1.0, sigma=1.5)\n",
    "lj.pair_coeff.set('Anion', 'Anion', epsilon=1.0, sigma=1.0)\n",
    "lj.pair_coeff.set('Cation', 'Cation', epsilon=1.0, sigma=2.0)"
   ]
  },
  {
   "cell_type": "markdown",
   "metadata": {},
   "source": [
    "Of course, the charged particles also have electrostatic interaction, which needs to be calculated. Since the Coulomb interaction converges towards zero much more slowly than the Lennard-Jones interaction, the longer range contribution has to be taken into account. This is done by the so called Particle-particle-particle mesh Ewald technique, which is initialised below.   "
   ]
  },
  {
   "cell_type": "code",
   "execution_count": 12,
   "metadata": {},
   "outputs": [
    {
     "name": "stdout",
     "output_type": "stream",
     "text": [
      "notice(2): Group \"charged\" created containing 54 particles\n",
      "-----\n",
      "You are using PPPM. Please cite the following:\n",
      "* D N LeBard, B G Levine, S A Barr, A Jusufi, S Sanders, M L Klein, and A Z\n",
      "  Panagiotopoulos. \"Self-assembly of coarse-grained ionic surfactants\n",
      "  accelerated by graphics processing units\", Journal of Computational Physics 8\n",
      "  (2012) 2385-2397\n",
      "-----\n"
     ]
    }
   ],
   "source": [
    "charged = hoomd.group.charged()\n",
    "all = hoomd.group.all()\n",
    "pppm = hoomd.md.charge.pppm(group=charged, nlist=nl)\n",
    "pppm.set_params(Nx=32, Ny=32, Nz=32, order=5, rcut=3.5)"
   ]
  },
  {
   "cell_type": "markdown",
   "metadata": {
    "hideCode": false,
    "hidePrompt": false
   },
   "source": [
    "## 4. Set up the MD simulation and the ensemble"
   ]
  },
  {
   "cell_type": "markdown",
   "metadata": {
    "hideCode": false,
    "hidePrompt": false
   },
   "source": [
    "To propagate the system forward in time, an integration mode must be set. We will used the ``mode_standard``, where at each timestep, all of the specified forces are evaluated and used in moving the system forward to the next timestep.\n",
    "This is where we also set the length of one MD timestep the integrator will use."
   ]
  },
  {
   "cell_type": "code",
   "execution_count": 13,
   "metadata": {
    "hideCode": false,
    "hidePrompt": false
   },
   "outputs": [],
   "source": [
    "hoomd.md.integrate.mode_standard(dt=0.005);"
   ]
  },
  {
   "cell_type": "markdown",
   "metadata": {
    "hideCode": false,
    "hidePrompt": false
   },
   "source": [
    "We also have to define the ensemble we will be working at: canonical ensemble (keeping the volume constant) and isobaric ensemble (keeping the pressure constant).\n",
    "This is done by setting the appropriate integrator. We'll define both first, and switch between them as necessary during the simulation. "
   ]
  },
  {
   "cell_type": "markdown",
   "metadata": {
    "hideCode": false,
    "hidePrompt": false
   },
   "source": [
    "<b>(a) ($N$,$V$,$T$) simulation using the Langevin thermostat.</b>\n",
    "    ``kT`` is the temperature of the thermostat in energy units, ``seed`` is random number seed for initialising the random forces to be applied on the atoms (use any integer you wish)."
   ]
  },
  {
   "cell_type": "markdown",
   "metadata": {},
   "source": [
    "<div class=warn> Set the the temperature value </div>"
   ]
  },
  {
   "cell_type": "code",
   "execution_count": 14,
   "metadata": {
    "hideCode": false,
    "hidePrompt": false
   },
   "outputs": [
    {
     "name": "stdout",
     "output_type": "stream",
     "text": [
      "notice(2): integrate.langevin/bd is using specified gamma values\n"
     ]
    }
   ],
   "source": [
    "nvt = hoomd.md.integrate.langevin(group=all, kT=0.8, seed=10)"
   ]
  },
  {
   "cell_type": "markdown",
   "metadata": {
    "hideCode": false,
    "hidePrompt": false
   },
   "source": [
    "<b>(b) ($N$,$P$,$T$) simulation using Martyna-Tobias-Klein equations of motion.</b> ``kT`` is the temperature of the thermostat in energy units, ``tau`` is the coupling constant of the thermostat in time units, ``P`` is the isotropic pressure in pressure units, ``tauP`` is the coupling constant of the barostat in time units. ``couple`` is the couplings of diagonal elements of the stress tensor: if it is ``none``, than all box lengths are updated independently, if it is ``xyz``, the ratios between all box lengths stay constant (the shape of the simulation cell will not change, just the volume)."
   ]
  },
  {
   "cell_type": "markdown",
   "metadata": {},
   "source": [
    "<div class=warn> Set the the temperature and pressure values </div>"
   ]
  },
  {
   "cell_type": "code",
   "execution_count": 15,
   "metadata": {
    "hideCode": false,
    "hidePrompt": false
   },
   "outputs": [],
   "source": [
    "npt = hoomd.md.integrate.npt(group=all, kT=0.8, tau=3.0, P=0.1, tauP = 3.0, couple=\"xyz\")"
   ]
  },
  {
   "cell_type": "markdown",
   "metadata": {
    "hideCode": false,
    "hidePrompt": false
   },
   "source": [
    "## 5. Set the output format\n",
    "\n",
    "What quantities should be collected, how often, and where they should be saved during the MD simulation?\n",
    "A number of quantities are calculated during a simulation, and these can be logged so we can check and analyse them later. A few example of useful quantities are below, you can choose which ones to include (or all of them). The log file is a text file, with each column corresponding to the quantities defined, in the same order. Output data is written to the file line by line at every period timestep."
   ]
  },
  {
   "cell_type": "markdown",
   "metadata": {},
   "source": [
    "<div class=warn> Define the output file name you would like to use. </div>"
   ]
  },
  {
   "cell_type": "code",
   "execution_count": 16,
   "metadata": {},
   "outputs": [],
   "source": [
    "log_filename=\"md.log\""
   ]
  },
  {
   "cell_type": "code",
   "execution_count": 17,
   "metadata": {
    "hideCode": false,
    "hidePrompt": false
   },
   "outputs": [],
   "source": [
    "quantities=['volume','lx','ly','lz','potential_energy','kinetic_energy','temperature','pressure']\n",
    "\n",
    "hoomd.analyze.log(filename=log_filename,\n",
    "                  quantities=quantities,\n",
    "                  period=50,\n",
    "                  overwrite=True) # keep appending the existing file\n",
    "\n",
    "d = hoomd.dump.dcd(\"dump.dcd\", period=50, group=all, overwrite=True, unwrap_full=False);"
   ]
  },
  {
   "cell_type": "markdown",
   "metadata": {
    "hideCode": false,
    "hidePrompt": false
   },
   "source": [
    "# 6. All is set. We are ready to go!"
   ]
  },
  {
   "cell_type": "markdown",
   "metadata": {
    "hideCode": false,
    "hidePrompt": false
   },
   "source": [
    "Now all parameters are set, you can start the actual molecular dynamics simulation, hurray!\n",
    "The initial configuration is usually very far from the equilibrium, and to lessen large initial fluctuations, it is usually a good idea to start with a short ($N$,$V$,$T$) simulation before switching to the ($N$,$P$,$T$) ensemble. \n",
    "\n",
    "Only one integrator can be set at a time, so just to be sure we'll be using the right thing, we disable the npt integrator and enable the nvt. (This might give a warning that nvt has been already enabled, that's okay.)"
   ]
  },
  {
   "cell_type": "code",
   "execution_count": 18,
   "metadata": {},
   "outputs": [
    {
     "name": "stderr",
     "output_type": "stream",
     "text": [
      "*Warning*: Ignoring command to enable an integration method that is already enabled"
     ]
    }
   ],
   "source": [
    "npt.disable()\n",
    "nvt.enable()\n",
    "# Ignore the warning..."
   ]
  },
  {
   "cell_type": "markdown",
   "metadata": {},
   "source": [
    "The following simple command performs ``2000`` MD timesteps with the parameters set so far."
   ]
  },
  {
   "cell_type": "code",
   "execution_count": 19,
   "metadata": {
    "hideCode": false,
    "hidePrompt": false,
    "scrolled": true
   },
   "outputs": [
    {
     "name": "stdout",
     "output_type": "stream",
     "text": [
      "notice(2): -- Neighborlist exclusion statistics -- :\n",
      "notice(2): Particles with 0 exclusions             : 2349\n",
      "notice(2): Neighbors included by diameter          : no\n",
      "notice(2): Neighbors excluded when in the same body: no\n",
      "** starting run **\n",
      "notice(2): charge.pppm: RMS error: 4.94505e-06\n",
      "Time 00:00:12 | Step 1142 / 2000 | TPS 114.128 | ETA 00:00:07\n",
      "Time 00:00:19 | Step 2000 / 2000 | TPS 118.616 | ETA 00:00:00\n",
      "Average TPS: 116.006\n",
      "---------\n",
      "-- Neighborlist stats:\n",
      "190 normal updates / 20 forced updates / 0 dangerous updates\n",
      "n_neigh_min: 0 / n_neigh_max: 146 / n_neigh_avg: 66.4083\n",
      "shortest rebuild period: 4\n",
      "-- Cell list stats:\n",
      "Dimension: 4, 4, 4\n",
      "n_min    : 13 / n_max: 51 / n_avg: 36.7031\n",
      "** run complete **\n"
     ]
    }
   ],
   "source": [
    "hoomd.run(2000)"
   ]
  },
  {
   "cell_type": "markdown",
   "metadata": {
    "hideCode": false,
    "hidePrompt": false
   },
   "source": [
    "``2000`` steps should take less than one minute. If you perform the ``hoomd.run()`` command again, the simulation will continue from the last configuration available. Between ``hoomd.run()`` commands you can (and are strongly encouraged) to check the status of the simulation (e.g. how the potential energy, the volume, the temperature...etc. changes. Do they fluctuate widely or converged around a value?). "
   ]
  },
  {
   "cell_type": "markdown",
   "metadata": {
    "hideCode": false,
    "hidePrompt": false
   },
   "source": [
    "#### Let's have a quick look at what happend and visualise the trajectory  "
   ]
  },
  {
   "cell_type": "markdown",
   "metadata": {},
   "source": [
    "After the initial pre-equilibration of the system, on the ($N$,$V$,$T$) ensemble, we switch to the ($N$,$P$,$T$) ensemble to equilibrate the density of the system as well. Note, the ($N$,$P$,$T$) simulation is a bit slower, especially if the volume decreases (larger density means more neighbouring atoms, thus more pair-energies to compute!)"
   ]
  },
  {
   "cell_type": "code",
   "execution_count": 20,
   "metadata": {},
   "outputs": [],
   "source": [
    "nvt.disable()\n",
    "npt.enable()"
   ]
  },
  {
   "cell_type": "code",
   "execution_count": 21,
   "metadata": {},
   "outputs": [
    {
     "name": "stdout",
     "output_type": "stream",
     "text": [
      "** starting run **\n",
      "Time 00:00:29 | Step 2698 / 12000 | TPS 69.6514 | ETA 00:02:13\n",
      "Time 00:00:39 | Step 3287 / 12000 | TPS 58.568 | ETA 00:02:28\n",
      "Time 00:00:49 | Step 3874 / 12000 | TPS 58.3159 | ETA 00:02:19\n",
      "Time 00:00:59 | Step 4465 / 12000 | TPS 59.082 | ETA 00:02:07\n",
      "Time 00:01:09 | Step 5049 / 12000 | TPS 58.3215 | ETA 00:01:59\n",
      "Time 00:01:19 | Step 5639 / 12000 | TPS 58.9437 | ETA 00:01:47\n",
      "Time 00:01:29 | Step 6230 / 12000 | TPS 59.0466 | ETA 00:01:37\n",
      "Time 00:01:39 | Step 6827 / 12000 | TPS 59.6407 | ETA 00:01:26\n",
      "Time 00:01:49 | Step 7429 / 12000 | TPS 60.1835 | ETA 00:01:15\n",
      "Time 00:01:59 | Step 8025 / 12000 | TPS 59.5336 | ETA 00:01:06\n",
      "Time 00:02:09 | Step 8624 / 12000 | TPS 59.7769 | ETA 00:00:56\n",
      "Time 00:02:19 | Step 9214 / 12000 | TPS 58.9868 | ETA 00:00:47\n",
      "Time 00:02:29 | Step 9810 / 12000 | TPS 59.5874 | ETA 00:00:36\n",
      "Time 00:02:39 | Step 10401 / 12000 | TPS 59.0706 | ETA 00:00:27\n",
      "Time 00:02:49 | Step 10989 / 12000 | TPS 58.7604 | ETA 00:00:17\n",
      "Time 00:02:59 | Step 11584 / 12000 | TPS 59.3403 | ETA 00:00:07\n",
      "Time 00:03:06 | Step 12000 / 12000 | TPS 60.1753 | ETA 00:00:00\n",
      "Average TPS: 59.8156\n",
      "---------\n",
      "-- Neighborlist stats:\n",
      "847 normal updates / 100 forced updates / 0 dangerous updates\n",
      "n_neigh_min: 0 / n_neigh_max: 174 / n_neigh_avg: 83.0017\n",
      "shortest rebuild period: 8\n",
      "-- Cell list stats:\n",
      "Dimension: 3, 3, 3\n",
      "n_min    : 75 / n_max: 97 / n_avg: 87\n",
      "** run complete **\n"
     ]
    }
   ],
   "source": [
    "hoomd.run(10000)"
   ]
  },
  {
   "cell_type": "code",
   "execution_count": 22,
   "metadata": {
    "hideCode": false,
    "hidePrompt": false,
    "scrolled": true
   },
   "outputs": [
    {
     "data": {
      "application/vnd.jupyter.widget-view+json": {
       "model_id": "bad044fe9eab47c0a485d28b35abf184",
       "version_major": 2,
       "version_minor": 0
      },
      "text/plain": [
       "NGLWidget(max_frame=239)"
      ]
     },
     "metadata": {},
     "output_type": "display_data"
    }
   ],
   "source": [
    "# Visualise the entire trajectory (NVT + NPT!)\n",
    "# If you want to split the two runs you will have to modify the output files above\n",
    "# As at the moment we are \"appending\" our results in terms of observables (temperature, pressure...) \n",
    "# and trajectories to md.log and dump.dcd, rsepctively\n",
    "\n",
    "# Load the trajectory and the topology\n",
    "p_traj = pt.load('dump.dcd', top='system.pdb')\n",
    "\n",
    "# Show...\n",
    "# NOTE: if you are running the entire Notebook from top to bottom in one go \n",
    "# by e.g. \"Kernel -> Restart & Run all\" you'll have to wait for the kernel to\n",
    "# execute ALL cells before the visualisation shows up!\n",
    "p_view = nv.show_pytraj(p_traj)\n",
    "p_view"
   ]
  },
  {
   "cell_type": "markdown",
   "metadata": {
    "hideCode": false,
    "hidePrompt": false
   },
   "source": [
    "#### The visualisation is informative, but we need some more solid data to see whether the simulation is converged"
   ]
  },
  {
   "cell_type": "markdown",
   "metadata": {
    "hideCode": false,
    "hidePrompt": false
   },
   "source": [
    "Saved quantities can be read from the produced logfile, and plotted as required. Keep in mind that the order of the quantities is what you have defined at the point of creating the log, (the zeroth column is always the timstep)."
   ]
  },
  {
   "cell_type": "markdown",
   "metadata": {},
   "source": [
    "<div class=warn> Create two graphs to check the evolution of the (a) volume of the simulation box and (b) the potential energy of the system.</div>"
   ]
  },
  {
   "cell_type": "code",
   "execution_count": 31,
   "metadata": {
    "hideCode": false,
    "hidePrompt": false
   },
   "outputs": [],
   "source": [
    "data = np.genfromtxt(fname=log_filename, skip_header=True)\n",
    "# Remember:\n",
    "# quantities=['volume','lx','ly','lz','potential_energy','kinetic_energy','temperature','pressure']"
   ]
  },
  {
   "cell_type": "code",
   "execution_count": 32,
   "metadata": {
    "hideCode": false,
    "hidePrompt": false,
    "scrolled": false
   },
   "outputs": [
    {
     "data": {
      "text/plain": [
       "Text(0, 0.5, 'Volume')"
      ]
     },
     "execution_count": 32,
     "metadata": {},
     "output_type": "execute_result"
    },
    {
     "data": {
      "image/png": "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\n",
      "text/plain": [
       "<Figure size 800x400 with 1 Axes>"
      ]
     },
     "metadata": {
      "needs_background": "light"
     },
     "output_type": "display_data"
    }
   ],
   "source": [
    "pyplot.figure(figsize=(8,4), dpi=100)\n",
    "pyplot.plot(data[:,1])\n",
    "pyplot.xlabel('time')\n",
    "pyplot.ylabel('Volume')"
   ]
  },
  {
   "cell_type": "markdown",
   "metadata": {},
   "source": [
    "How can you decide whether your run is equilibrated and is ready to start collecting data?  "
   ]
  },
  {
   "cell_type": "markdown",
   "metadata": {},
   "source": [
    "<div class=warn>If you still see a systematic change in the volume or the energy, thus not yet reached the phase where these quantities fluctuate around an average value, you need to continue the simulation a bit longer! Execute the command ```hoomd.run(10000)``` again until you're satisfied the system reached equilibrium.</div>"
   ]
  },
  {
   "cell_type": "markdown",
   "metadata": {
    "hideCode": false,
    "hidePrompt": false
   },
   "source": [
    "# 7. Compute the solvation shells"
   ]
  },
  {
   "cell_type": "markdown",
   "metadata": {},
   "source": [
    "Whether you would opt for the \"direct\" method or the pair correlation function-based approach (see the \"M15_Experimental_Protocol.pdf\" document on Moodle), you need to compute the ions-solvent particles pair correlation function(S) in order to identify the cutoff radius."
   ]
  },
  {
   "cell_type": "markdown",
   "metadata": {},
   "source": [
    "<div class=warn>\n",
    "    \n",
    "* Compute p_cs and p_as. Plot the results on the same graph and identify the cutoff radii for the solvation shell of cations and anions.\n",
    "    \n",
    "</div>"
   ]
  },
  {
   "cell_type": "markdown",
   "metadata": {},
   "source": [
    "### Calculating the pair correlation functions\n",
    "\n",
    "You can calculate the pair correlation functions ***relative to a particular frame only*** using the function \"py_rdf\" defined below. This function takes in input the following arguments: \n",
    "\n",
    "* **r**   = a numpy array containing the positions of all the particles\n",
    "* **S**   = the length of the box (which is assumed to be square/cubic in 2/3D !!)\n",
    "* **n_dr**  = the number of bins used to construct the distance histogram\n",
    "* **dim** = the dimensionality of the system (2 or 3 D)"
   ]
  },
  {
   "cell_type": "code",
   "execution_count": 25,
   "metadata": {},
   "outputs": [],
   "source": [
    "# Load the trajectory into the \"traj\" object:\n",
    "traj = pt.load('dump.dcd', top='system.pdb')\n",
    "\n",
    "# Access the positions of all the particles within the first frame (index = 0)\n",
    "\n",
    "# Select the first frame [0] from the trajectory object traj\n",
    "rr = traj[0]\n",
    "\n",
    "# .xyz prints out the positions, which we store in the numpy array r [in units of solvent's LJ sigma (=1.0)] \n",
    "r = np.array(rr.xyz)\n",
    "\n",
    "\n",
    "# Access the length of the box \n",
    "# Note that for a NPT simulation the box will change in time, hence we need to select the box for each frame\n",
    "\n",
    "# .box.z prints the magnitude of the cell vector aligned with the z axis. \n",
    "# As we are using a cubic simulation box (identified via three cell vectors of equal length aligned\n",
    "# along the x, y and axis), you - could - also use .box.y and .box.x\n",
    "# NOTE: do - not - use .box.x, though (bug!)\n",
    "# We store this number in the variable S, which represents the length of the box [in units of solvent's LJ sigma (=1.0)] \n",
    "S = rr.box.z"
   ]
  },
  {
   "cell_type": "code",
   "execution_count": 26,
   "metadata": {},
   "outputs": [],
   "source": [
    "def py_rdf(r, S, n_dr, dim):\n",
    "    from numpy import zeros, sqrt, where, pi, mean, arange, histogram, absolute\n",
    "    num_particles  = len(r)\n",
    "    rMax           = S/2.0;\n",
    "    dr             = rMax/n_dr\n",
    "    edges          = np.linspace(0., rMax + dr, num=n_dr)\n",
    "    num_increments = len(edges) - 1\n",
    "    g              = zeros(num_increments)\n",
    "    radii          = zeros(num_increments)\n",
    "    numberDensity  = len(r) / S**dim\n",
    "\n",
    "    # Compute pairwise correlation for each particle\n",
    "    \n",
    "    for index in range(num_particles): # Loop over all the particles\n",
    "\n",
    "        d = 0.0\n",
    "        for i in range(dim):\n",
    "            \n",
    "            # Set of distances (components x, y and z as indicated by the index \"i\")\n",
    "            # between the particle specified by the index \"index\" and all the other particles (note the \":\")\n",
    "            dp = absolute(r[index,i] - r[:,i]) \n",
    "            \n",
    "            # Condition: a distance component is longer than half of the box\n",
    "            # If it is, we need to account for the PBC\n",
    "            mask = dp>S/2.0\n",
    "            \n",
    "            # If the condition above is verified, scale the distance to the actual PBC-corrected distance\n",
    "            dp[mask] = S - dp[mask]\n",
    "            \n",
    "            # Calculate the distance (squared) from the distance components\n",
    "            # That is, d = dp_x**2 + dp_y**2 + dp_z**2\n",
    "            d += dp*dp\n",
    "\n",
    "        # Distance    \n",
    "        d = sqrt(d)\n",
    "        \n",
    "        # The distance between the particle specified by the index \"index\" and itself - that is, the box length!\n",
    "        d[index] = 2 * rMax\n",
    "\n",
    "        # Build a histogram of all the distances we have computed\n",
    "        (result, bins) = histogram(d, bins=edges, density=False)\n",
    "        \n",
    "        # Sum the histogram for each particle\n",
    "        g += result\n",
    "\n",
    "    # Normalize the histogram\n",
    "    g = g/(num_particles * numberDensity)\n",
    "\n",
    "    # Normalize the g(r) dividing by the g(r) of an ideal gas - in 2D!\n",
    "    if dim == 2:\n",
    "        for i in range(num_increments):\n",
    "            radii[i] = (edges[i] + edges[i+1]) / 2.\n",
    "            rOuter = edges[i + 1]\n",
    "            rInner = edges[i]\n",
    "            g[i] = g[i] / (2.0 * pi * (rOuter-rInner)* radii[i])\n",
    "\n",
    "    # Normalize the g(r) dividing by the g(r) of an ideal gas - in 3D\n",
    "    if dim == 3:\n",
    "        for i in range(num_increments):\n",
    "            radii[i] = (edges[i] + edges[i+1]) / 2.\n",
    "            rOuter = edges[i + 1]\n",
    "            rInner = edges[i]\n",
    "            g[i] = g[i] / (4.0 * pi * (rOuter-rInner)* radii[i] * radii[i])\n",
    "\n",
    "    return (radii, g)"
   ]
  },
  {
   "cell_type": "code",
   "execution_count": 27,
   "metadata": {},
   "outputs": [],
   "source": [
    "n_dr=50\n",
    "\n",
    "# Compute the g(r). dist contains the distances (x-axis), pcf_all contains the g(r)\n",
    "dist, pcf_all = py_rdf(r, S, n_dr, 3)"
   ]
  },
  {
   "cell_type": "markdown",
   "metadata": {},
   "source": [
    "### Cross correlations\n",
    "What we have computed above is the g(r) for ***all*** the particles in the system. In order to compute the solvation shell of, for instance, the cations, we need to compute the cations-solvent pair correlation function. Solvent particles have been labeled as \"S\", while cations have been labeled as \"C\". One way to proceed is to build two different numpy arrays containing the positions of S and C only. At that point, we can modify the ```py_rdf``` function so as to compute the distances between S and C particles only. The one thing left to modify would be the normalization factor. In the previous case (i.e. the g(r) of the entire system) we have divided the histogram of the distance by the number of particles times the density of the system. In here, we will have to divide by the number of C particles times the density of system for the S particles only."
   ]
  },
  {
   "cell_type": "code",
   "execution_count": 28,
   "metadata": {},
   "outputs": [],
   "source": [
    "# Load the trajectory into the \"traj\" object - AGAIN\n",
    "# In principle this is not needed - however, failing to re-load will kill the kernel\n",
    "# if one runs the entire Notebook from top to bottom...\n",
    "traj = pt.load('dump.dcd', top='system.pdb')\n",
    "\n",
    "# Access the positions of the C particles only within frame 0\n",
    "rr_C = traj['@C',0]\n",
    "r_C = np.array(rr_C.xyz)\n",
    "\n",
    "# Access the positions of the S particles only within frame 0\n",
    "rr_S = traj['@S',0]\n",
    "r_S = np.array(rr_S.xyz)"
   ]
  },
  {
   "cell_type": "markdown",
   "metadata": {},
   "source": [
    "<div class=warn>\n",
    "    \n",
    "* Modify the function below so as to compute a generic pair correlation function between A and B particles. The sections of the code for you to modify are tagged as \"MODIFY\"\n",
    "    \n",
    "</div>"
   ]
  },
  {
   "cell_type": "code",
   "execution_count": 29,
   "metadata": {},
   "outputs": [],
   "source": [
    "# Modified py_rdf function that computes the pair correlation function for two groups of particles\n",
    "# We need as input two arrays of positions for particles A and B\n",
    "\n",
    "def py_rdf_AB(r_A, r_B, S, n_dr, dim):\n",
    "    from numpy import zeros, sqrt, where, pi, mean, arange, histogram, absolute\n",
    "    num_particles_A  = len(r_A)\n",
    "    num_particles_B  = len(r_B)\n",
    "    rMax           = S/2.0;\n",
    "    dr             = rMax/n_dr\n",
    "    edges          = np.linspace(0., rMax + dr, num=n_dr)\n",
    "    num_increments = len(edges) - 1\n",
    "    g              = zeros(num_increments)\n",
    "    radii          = zeros(num_increments)\n",
    "    numberDensity_A  = len(r_A) / S**dim\n",
    "    numberDensity_B  = len(r_B) / S**dim\n",
    "\n",
    "    # Compute pairwise correlation\n",
    "    \n",
    "    # Loop over particles A\n",
    "    for index in range(MODIFY):\n",
    "\n",
    "        d = 0.0\n",
    "        for i in range(dim):\n",
    "            \n",
    "            # (Components of the) distances between each particle A and all the particles B\n",
    "            dp = absolute(MODIFY[index,i] - MODIFY[:,i])\n",
    "            mask = dp>S/2.0\n",
    "            dp[mask] = S - dp[mask]\n",
    "            d += dp*dp\n",
    "\n",
    "        d = sqrt(d) # array containing the num_particles distances from particle index to all other particles\n",
    "        d[index] = 2 * rMax\n",
    "\n",
    "        (result, bins) = histogram(d, bins=edges, density=False)\n",
    "        g += result\n",
    "\n",
    "    # Normalise by the number of B particles and the number density for A particles only    \n",
    "    g = g/(MODIFY * MODIFY)\n",
    "\n",
    "    # Normalize the g(r) dividing by the g(r) of an ideal gas - in 2D!\n",
    "    if dim == 2:\n",
    "        for i in range(num_increments):\n",
    "            radii[i] = (edges[i] + edges[i+1]) / 2.\n",
    "            rOuter = edges[i + 1]\n",
    "            rInner = edges[i]\n",
    "            g[i] = g[i] / (2.0 * pi * (rOuter-rInner)* radii[i])\n",
    "\n",
    "    # Normalize the g(r) dividing by the g(r) of an ideal gas - in 3D\n",
    "    if dim == 3:\n",
    "        for i in range(num_increments):\n",
    "            radii[i] = (edges[i] + edges[i+1]) / 2.\n",
    "            rOuter = edges[i + 1]\n",
    "            rInner = edges[i]\n",
    "            g[i] = g[i] / (4.0 * pi * (rOuter-rInner)* radii[i] * radii[i])\n",
    "\n",
    "    return (radii, g)"
   ]
  },
  {
   "cell_type": "markdown",
   "metadata": {},
   "source": [
    "<div class=warn>\n",
    "    \n",
    "* Calculate the average number of solvent particles within the solvation shell of the cations/anions.\n",
    "    1. Use the ```py_rdf_AB``` you have modified above to compute the cations/anions-solvent pair correlation functions (PCFs). Note that **you will need to average the PCFs across the MD trajectory**. Tip: you might want to avoid that section of the trajectory corresponding to the initial equilibration when averaging your PCFs.\n",
    "    \n",
    "    2. Identify the cutoff radius corresponding to the extent of the cations/anions solvation shell. Plotting the PCFs might help. Tip: Several Python packages (see [here](https://pythonawesome.com/overview-of-the-peaks-dectection-algorithms-available-in-python/) for an overview) allow you to quickly locate the extrema of a given function. \n",
    "    \n",
    "    3. Compute the average number of solvent particles within the solvation shell of the cations/anions using the cutoff radii you have identified. You can either:\n",
    "    \n",
    "        - Do that \"directly\", by identifying how many particles lie within the cutoff for each cation/anions.\n",
    "    \n",
    "        - Integrate the PCFs up to the cutoff radius. This is much faster than the direct method, as you have computed the PCFs already. Tip: You can use the \"CW_1_Key.ipnyb\" Notebook we have used for CH273 as a starting point, but **remember to sum the area corresponding to each bin** (we didn't do that in \"CW_1_Key.ipnyb\"). \n",
    "    \n",
    "</div>"
   ]
  },
  {
   "cell_type": "markdown",
   "metadata": {},
   "source": [
    "<div class=warn>\n",
    "    \n",
    "* Investigate the changes in the solvation shells observed upon the modification of the size of the cations and/or anions. This can be done by varying the value of $\\sigma$ (see e.g. ```lj.pair_coeff.set('Solvent', 'Anion',  epsilon=1.0, sigma=1.0)``` above). We recommend to explore values of $\\sigma$ between 1 and 2\n",
    "    \n",
    "</div>"
   ]
  },
  {
   "cell_type": "code",
   "execution_count": 30,
   "metadata": {},
   "outputs": [],
   "source": [
    "# # Potentially useful pytraj commands...\n",
    "\n",
    "# # List all the atom types in the system\n",
    "# print(set(atom.name for atom in traj.top.atoms))\n",
    "\n",
    "# # Print the atom names in the same order specified within the topology and trajectory\n",
    "# for i in traj.top.atoms:\n",
    "#     print(i.name)\n",
    "\n",
    "# Print the numbe of frames within the trajectory\n",
    "# print(len(traj))"
   ]
  },
  {
   "cell_type": "code",
   "execution_count": null,
   "metadata": {},
   "outputs": [],
   "source": []
  }
 ],
 "metadata": {
  "hide_code_all_hidden": false,
  "kernelspec": {
   "display_name": "Python 3",
   "language": "python",
   "name": "python3"
  },
  "language_info": {
   "codemirror_mode": {
    "name": "ipython",
    "version": 3
   },
   "file_extension": ".py",
   "mimetype": "text/x-python",
   "name": "python",
   "nbconvert_exporter": "python",
   "pygments_lexer": "ipython3",
<<<<<<< HEAD
   "version": "3.6.12"
=======
   "version": "3.7.4"
>>>>>>> 32560da6021052b9207258ddf5b3993ad428a8f3
  }
 },
 "nbformat": 4,
 "nbformat_minor": 4
}
